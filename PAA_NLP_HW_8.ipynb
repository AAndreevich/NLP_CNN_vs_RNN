{
  "nbformat": 4,
  "nbformat_minor": 0,
  "metadata": {
    "colab": {
      "provenance": [],
      "toc_visible": true,
      "gpuType": "T4"
    },
    "kernelspec": {
      "name": "python3",
      "display_name": "Python 3"
    },
    "language_info": {
      "name": "python"
    },
    "accelerator": "GPU"
  },
  "cells": [
    {
      "cell_type": "markdown",
      "source": [
        "# Content"
      ],
      "metadata": {
        "id": "u58jnk81yfq1"
      }
    },
    {
      "cell_type": "markdown",
      "source": [
        ">[Content](#scrollTo=u58jnk81yfq1)\n",
        "\n",
        ">[Task](#scrollTo=S5V46a4UdmDY)\n",
        "\n",
        ">[Additional links](#scrollTo=7I63l6uB1nzn)\n",
        "\n",
        ">[Libraries and Functions](#scrollTo=zUMgqpvieruX)\n",
        "\n",
        ">>[Install libraries](#scrollTo=qsjaild3ez6D)\n",
        "\n",
        ">>[Import libraries](#scrollTo=4SwM2xyqgTYY)\n",
        "\n",
        ">>[For NLTK](#scrollTo=sIE5DyYhlV9J)\n",
        "\n",
        ">>[Additional functions](#scrollTo=IPoh3zdVmO-k)\n",
        "\n",
        ">[About data](#scrollTo=ChWjKThlm4uZ)\n",
        "\n",
        ">>[Review data](#scrollTo=wfFhID0Enfmt)\n",
        "\n",
        ">>[Clean data](#scrollTo=FsYk6KYb9xGW)\n",
        "\n",
        ">>[Save clean data](#scrollTo=RHwGX9DrGscX)\n",
        "\n",
        ">>[Load clean data](#scrollTo=1eyOlcvHHA6u)\n",
        "\n",
        ">>[Remove NaN values](#scrollTo=juDJMJ3r4X4v)\n",
        "\n",
        ">>[Data to vectors](#scrollTo=8pn6Gc_voqyq)\n",
        "\n",
        ">[Model](#scrollTo=ER6GEUx24i4q)\n",
        "\n",
        ">>[Create dataloader](#scrollTo=aEhxWRhq4gs6)\n",
        "\n",
        ">>[Create model](#scrollTo=uPq-LutM4rL4)\n",
        "\n",
        ">>>[Optimizer & Loss](#scrollTo=dQvT_BYM5G0Y)\n",
        "\n",
        ">>[Learn RNN model](#scrollTo=QqpFLtRZ1P5A)\n",
        "\n",
        ">>[Visualisation results](#scrollTo=85nTjpPkDRte)\n",
        "\n",
        ">>[Save model](#scrollTo=9ibBsq-aoZwv)\n",
        "\n",
        ">>[Load model](#scrollTo=MyTVGeZBoe7q)\n",
        "\n",
        ">>[Learn CNN model](#scrollTo=Ak5_JLTzVNhB)\n",
        "\n",
        ">>[Visualisation results](#scrollTo=OpcSu7B9pNw8)\n",
        "\n",
        ">>[Save model](#scrollTo=8EIH_PiUwaDZ)\n",
        "\n",
        ">>[Load model](#scrollTo=C6oiabLTvQPh)\n",
        "\n",
        ">[Conclusion](#scrollTo=pibdZn6swpK1)\n",
        "\n"
      ],
      "metadata": {
        "colab_type": "toc",
        "id": "ryc-1bLqykIq"
      }
    },
    {
      "cell_type": "markdown",
      "source": [
        "# Task"
      ],
      "metadata": {
        "id": "S5V46a4UdmDY"
      }
    },
    {
      "cell_type": "markdown",
      "source": [
        "Выяснить какая архитектура больше подходит для задачи сантимент анализа\n",
        "1. построить свёрточные архитектуры\n",
        "2. построить различные архитектуры с RNN\n",
        "3. построить совместные архитектуры CNN -> RNN  и (RNN -> CNN)\n",
        "4. сдлать выводы что получилось лучше\n"
      ],
      "metadata": {
        "id": "dCguXXJ2eoLb"
      }
    },
    {
      "cell_type": "markdown",
      "source": [
        "# Additional links"
      ],
      "metadata": {
        "id": "7I63l6uB1nzn"
      }
    },
    {
      "cell_type": "markdown",
      "source": [
        "* [Notebook_1](https://colab.research.google.com/drive/1-6J1hSuhOoySpNFEbMRWdz5Yz99Y7Wti?usp=drive_link)\n",
        "\n",
        "* [Notebook_2](https://colab.research.google.com/drive/1c3CN3kBfnAuI7XSUS2Uw-Zl6zjJCgvpZ?usp=drive_link)\n",
        "\n",
        "* Regular expressions [one](https://habr.com/ru/articles/349860/) [two](https://tproger.ru/translations/regular-expression-python) [three](https://docs.python.org/3/library/re.html#)"
      ],
      "metadata": {
        "id": "UYUoSlc71kw3"
      }
    },
    {
      "cell_type": "markdown",
      "source": [
        "# Libraries and Functions"
      ],
      "metadata": {
        "id": "zUMgqpvieruX"
      }
    },
    {
      "cell_type": "markdown",
      "source": [
        "## Install libraries"
      ],
      "metadata": {
        "id": "qsjaild3ez6D"
      }
    },
    {
      "cell_type": "code",
      "source": [
        "!pip install pymorphy2 clean-text dill langid"
      ],
      "metadata": {
        "colab": {
          "base_uri": "https://localhost:8080/"
        },
        "id": "mf7Vjx-PgG6g",
        "outputId": "2b4b1f8f-a637-401e-ae92-33c646fb43fc"
      },
      "execution_count": 1,
      "outputs": [
        {
          "output_type": "stream",
          "name": "stdout",
          "text": [
            "Collecting pymorphy2\n",
            "  Downloading pymorphy2-0.9.1-py3-none-any.whl.metadata (3.6 kB)\n",
            "Collecting clean-text\n",
            "  Downloading clean_text-0.6.0-py3-none-any.whl.metadata (6.6 kB)\n",
            "Collecting dill\n",
            "  Downloading dill-0.3.8-py3-none-any.whl.metadata (10 kB)\n",
            "Collecting langid\n",
            "  Downloading langid-1.1.6.tar.gz (1.9 MB)\n",
            "\u001b[2K     \u001b[90m━━━━━━━━━━━━━━━━━━━━━━━━━━━━━━━━━━━━━━━━\u001b[0m \u001b[32m1.9/1.9 MB\u001b[0m \u001b[31m22.1 MB/s\u001b[0m eta \u001b[36m0:00:00\u001b[0m\n",
            "\u001b[?25h  Preparing metadata (setup.py) ... \u001b[?25l\u001b[?25hdone\n",
            "Collecting dawg-python>=0.7.1 (from pymorphy2)\n",
            "  Downloading DAWG_Python-0.7.2-py2.py3-none-any.whl.metadata (7.0 kB)\n",
            "Collecting pymorphy2-dicts-ru<3.0,>=2.4 (from pymorphy2)\n",
            "  Downloading pymorphy2_dicts_ru-2.4.417127.4579844-py2.py3-none-any.whl.metadata (2.1 kB)\n",
            "Collecting docopt>=0.6 (from pymorphy2)\n",
            "  Downloading docopt-0.6.2.tar.gz (25 kB)\n",
            "  Preparing metadata (setup.py) ... \u001b[?25l\u001b[?25hdone\n",
            "Collecting emoji<2.0.0,>=1.0.0 (from clean-text)\n",
            "  Downloading emoji-1.7.0.tar.gz (175 kB)\n",
            "\u001b[2K     \u001b[90m━━━━━━━━━━━━━━━━━━━━━━━━━━━━━━━━━━━━━━━━\u001b[0m \u001b[32m175.4/175.4 kB\u001b[0m \u001b[31m10.1 MB/s\u001b[0m eta \u001b[36m0:00:00\u001b[0m\n",
            "\u001b[?25h  Preparing metadata (setup.py) ... \u001b[?25l\u001b[?25hdone\n",
            "Collecting ftfy<7.0,>=6.0 (from clean-text)\n",
            "  Downloading ftfy-6.2.0-py3-none-any.whl.metadata (7.3 kB)\n",
            "Requirement already satisfied: numpy in /usr/local/lib/python3.10/dist-packages (from langid) (1.26.4)\n",
            "Requirement already satisfied: wcwidth<0.3.0,>=0.2.12 in /usr/local/lib/python3.10/dist-packages (from ftfy<7.0,>=6.0->clean-text) (0.2.13)\n",
            "Downloading pymorphy2-0.9.1-py3-none-any.whl (55 kB)\n",
            "\u001b[2K   \u001b[90m━━━━━━━━━━━━━━━━━━━━━━━━━━━━━━━━━━━━━━━━\u001b[0m \u001b[32m55.5/55.5 kB\u001b[0m \u001b[31m1.8 MB/s\u001b[0m eta \u001b[36m0:00:00\u001b[0m\n",
            "\u001b[?25hDownloading clean_text-0.6.0-py3-none-any.whl (11 kB)\n",
            "Downloading dill-0.3.8-py3-none-any.whl (116 kB)\n",
            "\u001b[2K   \u001b[90m━━━━━━━━━━━━━━━━━━━━━━━━━━━━━━━━━━━━━━━━\u001b[0m \u001b[32m116.3/116.3 kB\u001b[0m \u001b[31m9.5 MB/s\u001b[0m eta \u001b[36m0:00:00\u001b[0m\n",
            "\u001b[?25hDownloading DAWG_Python-0.7.2-py2.py3-none-any.whl (11 kB)\n",
            "Downloading ftfy-6.2.0-py3-none-any.whl (54 kB)\n",
            "\u001b[2K   \u001b[90m━━━━━━━━━━━━━━━━━━━━━━━━━━━━━━━━━━━━━━━━\u001b[0m \u001b[32m54.4/54.4 kB\u001b[0m \u001b[31m3.3 MB/s\u001b[0m eta \u001b[36m0:00:00\u001b[0m\n",
            "\u001b[?25hDownloading pymorphy2_dicts_ru-2.4.417127.4579844-py2.py3-none-any.whl (8.2 MB)\n",
            "\u001b[2K   \u001b[90m━━━━━━━━━━━━━━━━━━━━━━━━━━━━━━━━━━━━━━━━\u001b[0m \u001b[32m8.2/8.2 MB\u001b[0m \u001b[31m32.7 MB/s\u001b[0m eta \u001b[36m0:00:00\u001b[0m\n",
            "\u001b[?25hBuilding wheels for collected packages: langid, docopt, emoji\n",
            "  Building wheel for langid (setup.py) ... \u001b[?25l\u001b[?25hdone\n",
            "  Created wheel for langid: filename=langid-1.1.6-py3-none-any.whl size=1941171 sha256=ad5bdb221f764d980724b5c3f62d9758ac39bf1f91d7f8dc182e6fec88ba18a5\n",
            "  Stored in directory: /root/.cache/pip/wheels/23/c8/c6/eed80894918490a175677414d40bd7c851413bbe03d4856c3c\n",
            "  Building wheel for docopt (setup.py) ... \u001b[?25l\u001b[?25hdone\n",
            "  Created wheel for docopt: filename=docopt-0.6.2-py2.py3-none-any.whl size=13704 sha256=23ad429f03ac838e2f3398f698895f265e27316c7d668172c884fc71f1d8e58a\n",
            "  Stored in directory: /root/.cache/pip/wheels/fc/ab/d4/5da2067ac95b36618c629a5f93f809425700506f72c9732fac\n",
            "  Building wheel for emoji (setup.py) ... \u001b[?25l\u001b[?25hdone\n",
            "  Created wheel for emoji: filename=emoji-1.7.0-py3-none-any.whl size=171033 sha256=9ed21afe9dbc16e9d055d87bc7a6b13a0e782529b8232cb28c400ebd3520ed9a\n",
            "  Stored in directory: /root/.cache/pip/wheels/31/8a/8c/315c9e5d7773f74b33d5ed33f075b49c6eaeb7cedbb86e2cf8\n",
            "Successfully built langid docopt emoji\n",
            "Installing collected packages: pymorphy2-dicts-ru, emoji, docopt, dawg-python, pymorphy2, langid, ftfy, dill, clean-text\n",
            "Successfully installed clean-text-0.6.0 dawg-python-0.7.2 dill-0.3.8 docopt-0.6.2 emoji-1.7.0 ftfy-6.2.0 langid-1.1.6 pymorphy2-0.9.1 pymorphy2-dicts-ru-2.4.417127.4579844\n"
          ]
        }
      ]
    },
    {
      "cell_type": "markdown",
      "source": [
        "## Import libraries"
      ],
      "metadata": {
        "id": "4SwM2xyqgTYY"
      }
    },
    {
      "cell_type": "code",
      "source": [
        "import os\n",
        "import shutil\n",
        "import time\n",
        "import re\n",
        "from google.colab import drive, files\n",
        "import pandas as pd\n",
        "import numpy as np\n",
        "from tqdm import tqdm\n",
        "tqdm.pandas()\n",
        "import dill\n",
        "from pymorphy2 import MorphAnalyzer\n",
        "from cleantext import clean\n",
        "import pickle\n",
        "import torch\n",
        "import torch.nn as nn\n",
        "import torch.nn.functional as F\n",
        "from torch.utils.data import Dataset, DataLoader\n",
        "from sklearn.base import BaseEstimator, TransformerMixin\n",
        "from sklearn.pipeline import Pipeline\n",
        "from sklearn.model_selection import train_test_split\n",
        "from sklearn.feature_extraction.text import TfidfVectorizer\n",
        "import itertools\n",
        "import nltk\n",
        "from nltk.corpus import stopwords\n",
        "import langid\n",
        "import emoji\n",
        "import matplotlib.pyplot as plt"
      ],
      "metadata": {
        "id": "TH_O5xnsgYdf",
        "colab": {
          "base_uri": "https://localhost:8080/"
        },
        "outputId": "d8f06c61-75ad-435d-d745-0b30adc934be"
      },
      "execution_count": 2,
      "outputs": [
        {
          "output_type": "stream",
          "name": "stderr",
          "text": [
            "WARNING:root:Since the GPL-licensed package `unidecode` is not installed, using Python's `unicodedata` package which yields worse results.\n"
          ]
        }
      ]
    },
    {
      "cell_type": "markdown",
      "source": [
        "## For NLTK"
      ],
      "metadata": {
        "id": "sIE5DyYhlV9J"
      }
    },
    {
      "cell_type": "code",
      "source": [
        "nltk.download('stopwords')\n",
        "nltk.download('punkt')\n",
        "nltk.download('averaged_perceptron_tagger_ru')\n",
        "nltk.download('maxent_ne_chunker')\n",
        "nltk.download('words')\n",
        "nltk.download('names')\n",
        "nltk.download('tagsets')"
      ],
      "metadata": {
        "colab": {
          "base_uri": "https://localhost:8080/"
        },
        "id": "TtpvOzNslZ4g",
        "outputId": "855d84c8-e19a-4685-d2dc-a92e7227d1fc"
      },
      "execution_count": 3,
      "outputs": [
        {
          "output_type": "stream",
          "name": "stderr",
          "text": [
            "[nltk_data] Downloading package stopwords to /root/nltk_data...\n",
            "[nltk_data]   Unzipping corpora/stopwords.zip.\n",
            "[nltk_data] Downloading package punkt to /root/nltk_data...\n",
            "[nltk_data]   Unzipping tokenizers/punkt.zip.\n",
            "[nltk_data] Downloading package averaged_perceptron_tagger_ru to\n",
            "[nltk_data]     /root/nltk_data...\n",
            "[nltk_data]   Unzipping taggers/averaged_perceptron_tagger_ru.zip.\n",
            "[nltk_data] Downloading package maxent_ne_chunker to\n",
            "[nltk_data]     /root/nltk_data...\n",
            "[nltk_data]   Unzipping chunkers/maxent_ne_chunker.zip.\n",
            "[nltk_data] Downloading package words to /root/nltk_data...\n",
            "[nltk_data]   Unzipping corpora/words.zip.\n",
            "[nltk_data] Downloading package names to /root/nltk_data...\n",
            "[nltk_data]   Unzipping corpora/names.zip.\n",
            "[nltk_data] Downloading package tagsets to /root/nltk_data...\n",
            "[nltk_data]   Unzipping help/tagsets.zip.\n"
          ]
        },
        {
          "output_type": "execute_result",
          "data": {
            "text/plain": [
              "True"
            ]
          },
          "metadata": {},
          "execution_count": 3
        }
      ]
    },
    {
      "cell_type": "markdown",
      "source": [
        "## Additional functions"
      ],
      "metadata": {
        "id": "IPoh3zdVmO-k"
      }
    },
    {
      "cell_type": "code",
      "source": [
        "def MDir(dir_name):\n",
        "    \"\"\"Make a new folder\"\"\"\n",
        "    if os.path.exists(dir_name):\n",
        "        shutil.rmtree(dir_name)\n",
        "    os.makedirs(dir_name)\n",
        "\n",
        "\n",
        "def Upload(dir_name):\n",
        "    \"\"\"Upload files from PC to work dir\"\"\"\n",
        "    f = files.upload()\n",
        "    for fl in list(f.keys()):\n",
        "        shutil.move('/content/' + fl, dir_name + fl)\n",
        "\n",
        "\n",
        "def save_model_dill(path, model_name):\n",
        "    with open(path, \"wb\") as mod:\n",
        "        dill.dump(model_name, mod)\n",
        "\n",
        "\n",
        "def load_model_dill(path):\n",
        "    with open(path, \"rb\") as mod1:\n",
        "        model_name = dill.load(mod1)\n",
        "    return model_name\n",
        "\n",
        "\n",
        "def save_model_pkl(path, model_name):\n",
        "    with open(path, \"wb\") as mod:\n",
        "        pickle.dump(model_name, mod)\n",
        "\n",
        "\n",
        "def load_model_pkl(path):\n",
        "    with open(path, \"rb\") as mod1:\n",
        "        model_name = pickle.load(mod1)\n",
        "    return model_name\n",
        "\n",
        "\n",
        "class CleanText(BaseEstimator, TransformerMixin):\n",
        "\n",
        "    \"\"\"Cleaning text from regular characters in column\n",
        "    key: str - name of column default:None\n",
        "        If key = None then X in transform must be str\n",
        "    stp_wrd: str - english, russian, ... default:english\n",
        "    like_list: bool - True|False default:False\n",
        "        If True then return text as list [word, word, ..., word], False return str,\n",
        "        default False\n",
        "    my_fun: Any default:None\n",
        "    return: pd.Series -> X[key]\n",
        "\n",
        "    You shoul to import:\n",
        "        >>> pip install pymorphy2\n",
        "        >>> pip install clean-text\n",
        "        import re\n",
        "        import pandas as pd\n",
        "        from tqdm import tqdm\n",
        "        from pymorphy2 import MorphAnalyzer\n",
        "        from sklearn.base import BaseEstimator, TransformerMixin\n",
        "        from cleantext import clean\n",
        "        imort emoji\n",
        "        from nltk.corpus import stopwords\n",
        "        nltk.download('stopwords')\"\"\"\n",
        "\n",
        "    def __init__(self, key:str=None, stp_wrd:str=None, my_fun=None, like_list:bool = False):\n",
        "        self.key = key\n",
        "        if stp_wrd == None:\n",
        "            self.stp_wrd = \"english\"\n",
        "        else:\n",
        "            self.stp_wrd = stp_wrd\n",
        "        self.sw = stopwords.words(self.stp_wrd)\n",
        "        self.morpher = MorphAnalyzer()\n",
        "        self.like_list = like_list\n",
        "        self.my_fun = my_fun\n",
        "\n",
        "\n",
        "    def clean_text(self, text:str) -> str:\n",
        "\n",
        "        \"\"\"Clean text\"\"\"\n",
        "\n",
        "        if not isinstance(text, str):\n",
        "            text = str(text)\n",
        "\n",
        "        text = text.lower()\n",
        "        text = text.strip('\\n').strip('\\r').strip('\\t')\n",
        "\n",
        "        if self.my_fun:\n",
        "            text = self.my_fun(text)\n",
        "        else:\n",
        "            pass\n",
        "\n",
        "        if self.stp_wrd == 'russian':\n",
        "            text = re.sub(r'https?://\\S+|www\\.\\S+', \"электронныйадресс\", text)\n",
        "        else:\n",
        "            text = re.sub(r'https?://\\S+|www\\.\\S+', \"weblinks\", text)\n",
        "\n",
        "        text = re.sub(\"\\s\\r\\n\\|-\\s\\r\\n|\\r\\n\", '', str(text))\n",
        "        text = emoji.replace_emoji(text, '')\n",
        "        text = re.sub(\"[0-9]|[-—.,:;_%©«»?*!@#№$^•·&()]|[+=]|[[]|[]]|[/]\", '', text)\n",
        "        text = re.sub(\"\\s\\w\\s\", \" \", text)\n",
        "        text = re.sub(r\"\\r\\n\\t|\\n|\\\\s|\\r\\t|\\\\n\", ' ', text)\n",
        "        text = re.sub(r'[\\xad]|[\\s+]', ' ', text.strip())\n",
        "        text = re.sub('\\n', ' ', text)\n",
        "        text = [self.morpher.parse(word)[0].normal_form for word in text.split() if word not in self.sw]\n",
        "        if self.like_list:\n",
        "            return text\n",
        "        else:\n",
        "            text = \" \".join(text)\n",
        "            return text\n",
        "\n",
        "    def get_feature_names_out(self, feature_names_out=None):\n",
        "        if feature_names_out != None:\n",
        "            return feature_names_out\n",
        "        else:\n",
        "            return [self.key]\n",
        "\n",
        "    def fit(self, X, y=None):\n",
        "        return self\n",
        "\n",
        "    def transform(self, X) -> pd.Series:\n",
        "        tqdm.pandas()\n",
        "        X[self.key] = X[self.key].progress_apply(lambda x: self.clean_text(x))\n",
        "        return X[self.key]\n",
        "\n",
        "\n",
        "class MyTextData(Dataset):\n",
        "    def __init__(self, data, target, transform=None):\n",
        "        self.data = torch.from_numpy(data).long()\n",
        "        self.target = torch.tensor(target).long()\n",
        "        self.transform = transform\n",
        "\n",
        "    def __getitem__(self, idx):\n",
        "        x = self.data[idx]\n",
        "        y = self.target[idx]\n",
        "\n",
        "        if self.transform:\n",
        "            x = self.transform(x)\n",
        "\n",
        "        return x, y\n",
        "\n",
        "    def __len__(self):\n",
        "        return len(self.data)\n",
        "\n",
        "\n",
        "class Preprocessing_data():\n",
        "\n",
        "    \"\"\"Cleaning text from regular characters and\n",
        "    transformations text to sequence\n",
        "    *X - X_train, X_val, X_test\n",
        "    cln_txt_key : str - column name\n",
        "    tfidf_params : dict - Params for TfidfVectorizer\"\"\"\n",
        "\n",
        "    def __init__(self, *X, key:str = None, tfidf_params:dict = None,\n",
        "                 stop_w = None, myfun = None, ret_lst:bool = False):\n",
        "        self.tfidf = TfidfVectorizer(**tfidf_params)\n",
        "        self.key = key\n",
        "        self.cln_txt = CleanText(key=self.key, stp_wrd=stop_w, my_fun=myfun, like_list=ret_lst)\n",
        "        self.X = list(X)\n",
        "        len_x = len(self.X)\n",
        "        pad = [[None]] * (3-len_x)\n",
        "        self.X = self.X[-len_x:] + pad\n",
        "        self.X_train, self.X_val, self.X_test = self.X\n",
        "\n",
        "    def data_preprocessing(self, clntxt = True):\n",
        "        if clntxt:\n",
        "            self.X_train = self.cln_txt.transform(self.X_train)\n",
        "            self.X_val = self.cln_txt.transform(self.X_val)\n",
        "            self.X_test = self.cln_txt.transform(self.X_test)\n",
        "            self.vocab = self.tfidf.fit(self.X_train).vocabulary_\n",
        "        else:\n",
        "            self.X_train = self.X_train[self.key]\n",
        "            self.X_val = self.X_val[self.key]\n",
        "            self.X_test = self.X_test[self.key]\n",
        "            self.vocab = self.tfidf.fit(self.X_train).vocabulary_\n",
        "        return self.vocab\n",
        "\n",
        "    def text_to_sequence(self, text, maxlen) -> list:\n",
        "        result = []\n",
        "        tokeniz = self.tfidf.build_tokenizer()\n",
        "        tokens_list = tokeniz(text)\n",
        "        for word in tokens_list:\n",
        "            if word in self.vocab:\n",
        "                result.append(self.vocab[word])\n",
        "\n",
        "        padding = [0] * (maxlen-len(result))\n",
        "        return result[-maxlen:] + padding\n",
        "\n",
        "    def results(self, max_len:int=25) -> np.array:\n",
        "        x_train = np.asarray([self.text_to_sequence(text, max_len) for text in self.X_train])\n",
        "        x_val = np.asarray([self.text_to_sequence(text, max_len) for text in self.X_val])\n",
        "        x_test = np.asarray([self.text_to_sequence(text, max_len) for text in self.X_test])\n",
        "        return x_train, x_val, x_test\n",
        "\n",
        "\n",
        "class RNN_Text_model(nn.Module):\n",
        "    def __init__(self, vocab_size, embedding_out, out_chanel, use_last=False):\n",
        "        super().__init__()\n",
        "        self.use_last = use_last\n",
        "        self.embedding = nn.Embedding(vocab_size, embedding_out)\n",
        "        self.rnn_1 = nn.RNN(embedding_out, embedding_out // 2, bidirectional=True)\n",
        "        self.rnn_2 = nn.RNN(embedding_out, embedding_out // 2)\n",
        "        self.rnn_3 = nn.RNN(embedding_out // 2, embedding_out // 4)\n",
        "        self.fc1 = nn.Linear(embedding_out // 4, embedding_out // 8)\n",
        "        self.fc2 = nn.Linear(embedding_out // 8, embedding_out // 16)\n",
        "        self.fc3 = nn.Linear(embedding_out // 16, out_chanel)\n",
        "        self.dp1 = nn.Dropout(0.3)\n",
        "        self.dp2 = nn.Dropout(0.4)\n",
        "        self.dp3 = nn.Dropout(0.5)\n",
        "\n",
        "    def forward(self, x):\n",
        "        out_e = self.embedding(x)\n",
        "        out_rnn_1, _ = self.rnn_1(out_e)\n",
        "        out_rnn_2, _ = self.rnn_2(out_rnn_1)\n",
        "        out_dp_1 = self.dp1(out_rnn_2)\n",
        "        out_rnn_3, _ = self.rnn_3(out_dp_1)\n",
        "        out_rnn = out_rnn_3[:,-1,:] if self.use_last == True else torch.mean(out_rnn_3[:,:], dim=1)\n",
        "        out_dp_2 = self.dp2(out_rnn)\n",
        "        out_fc1 = self.fc1(out_dp_2)\n",
        "        out_dp_3 = self.dp3(out_fc1)\n",
        "        out_fc2 = self.fc2(out_dp_3)\n",
        "        out_fc3 = self.fc3(out_fc2)\n",
        "        out = F.sigmoid(out_fc3)\n",
        "        return out\n",
        "\n",
        "\n",
        "class CNN_Text_model(nn.Module):\n",
        "    def __init__(self, vocab_size, embedding_out, out_chanel):\n",
        "        super().__init__()\n",
        "        self.embedding = nn.Embedding(vocab_size, embedding_out)\n",
        "        self.conv_1d_1 = nn.Conv1d(embedding_out, embedding_out // 2, kernel_size=1)\n",
        "        self.conv_1d_2 = nn.Conv1d(embedding_out // 2, embedding_out // 4, kernel_size=1)\n",
        "        self.fc1 = nn.Linear(embedding_out // 4, embedding_out // 8)\n",
        "        self.fc2 = nn.Linear(embedding_out // 8, embedding_out // 16)\n",
        "        self.fc3 = nn.Linear(embedding_out // 16, out_chanel)\n",
        "        self.dp1 = nn.Dropout(0.3)\n",
        "        self.dp2 = nn.Dropout(0.4)\n",
        "        self.dp3 = nn.Dropout(0.5)\n",
        "        self.global_1d_1 = nn.AdaptiveAvgPool1d(1)\n",
        "\n",
        "    def forward(self, x):\n",
        "        out_e = self.embedding(x)\n",
        "        out_e = out_e.permute(0,2,1)\n",
        "        out_conv1 = self.conv_1d_1(out_e)\n",
        "        out_conv2 = self.conv_1d_2(out_conv1)\n",
        "        out_pool = self.global_1d_1(out_conv2)\n",
        "        out_pool = out_pool.permute(0,2,1)\n",
        "        out_dp_1 = self.dp1(out_pool)\n",
        "        out_fc1 = self.fc1(out_dp_1)\n",
        "        out_dp_2 = self.dp2(out_fc1)\n",
        "        out_fc2 = self.fc2(out_dp_2)\n",
        "        out_dp_3 = self.dp3(out_fc2)\n",
        "        out_fc3 = self.fc3(out_dp_3)\n",
        "        out = F.sigmoid(out_fc3)\n",
        "        return out\n",
        "\n",
        "\n",
        "def NN_Model_Fit(model, epoch, dev, train_loader, val_loader, optimizer, criterion, threshold=0.5):\n",
        "\n",
        "    \"\"\"\n",
        "    model : model\n",
        "    epoch : int\n",
        "    dev : device\n",
        "    threshold : float\n",
        "    train_loader : <class 'torch.utils.data.dataloader.DataLoader'>\n",
        "    val_loader : <class 'torch.utils.data.dataloader.DataLoader'>\n",
        "    optimizer : torch.optim\n",
        "    criterion : torch.nn.modules.loss\n",
        "    \"\"\"\n",
        "\n",
        "    epochs = epoch\n",
        "    M = model.to(dev)\n",
        "    M.train()\n",
        "    th = threshold\n",
        "\n",
        "    train_loss_history = []\n",
        "    test_loss_history = []\n",
        "    train_acc_history = []\n",
        "    test_acc_history = []\n",
        "\n",
        "    start = time.time()\n",
        "\n",
        "    for epoch in range(epochs):\n",
        "        running_loss, running_items, running_right = 0.0, 0.0, 0.0\n",
        "        for i, data in enumerate(train_loader, 0):\n",
        "            inputs, labels = data[0].to(dev), data[1].to(dev)\n",
        "\n",
        "            # обнуляем градиент\n",
        "            optimizer.zero_grad()\n",
        "            outputs = M(inputs)\n",
        "\n",
        "            loss = criterion(outputs.squeeze(dim=1), labels.float().view(-1, 1))\n",
        "            loss.backward()\n",
        "            optimizer.step()\n",
        "\n",
        "            # подсчет ошибки на обучении\n",
        "            loss = loss.item()\n",
        "            running_items += len(labels)\n",
        "            # подсчет метрики на обучении\n",
        "            pred_labels = torch.squeeze((outputs > th).int())\n",
        "            running_right += (labels == pred_labels).sum()\n",
        "\n",
        "        # выводим статистику о процессе обучения\n",
        "        M.eval()\n",
        "\n",
        "        print(f'Epoch [{epoch + 1}/{epochs}]. ' \\\n",
        "                f'Step [{i + 1}/{len(train_loader)}]. ' \\\n",
        "                f'Loss: {loss:.5f}. ' \\\n",
        "                f'Acc: {running_right / running_items:.5f}', end='. ')\n",
        "        train_acc = running_right / running_items\n",
        "        train_acc_history.append(train_acc.item())\n",
        "        running_loss, running_items, running_right = 0.0, 0.0, 0.0\n",
        "        train_loss_history.append(loss)\n",
        "\n",
        "            # выводим статистику на тестовых данных\n",
        "        test_running_right, test_running_total, test_loss = 0.0, 0.0, 0.0\n",
        "        for j, data in enumerate(val_loader):\n",
        "            test_labels = data[1].to(dev)\n",
        "            test_outputs = M(data[0].to(dev))\n",
        "\n",
        "            # подсчет ошибки на тесте\n",
        "            test_loss = criterion(test_outputs.squeeze(dim=1), test_labels.float().view(-1, 1))\n",
        "            # подсчет метрики на тесте\n",
        "            test_running_total += len(data[1])\n",
        "            pred_test_labels = torch.squeeze((test_outputs > th).int())\n",
        "            test_running_right += (test_labels == pred_test_labels).sum()\n",
        "            test_acc = test_running_right / test_running_total\n",
        "\n",
        "        test_loss_history.append(test_loss.item())\n",
        "        test_acc_history.append(test_acc.item())\n",
        "        print(f'Test loss: {test_loss:.5f}. Test acc: {test_running_right / test_running_total:.5f}')\n",
        "\n",
        "        M.train()\n",
        "\n",
        "    stop = time.time()\n",
        "    print(f'\\nTraining is finished! It took {round((stop - start), 2)} seconds')\n",
        "    return {'train_loss' : train_loss_history,\n",
        "            'train_acc' : train_acc_history,\n",
        "            'test_loss' : test_loss_history,\n",
        "            'test_acc' : test_acc_history\n",
        "            }"
      ],
      "metadata": {
        "id": "JQUm-e4OlrQg"
      },
      "execution_count": 259,
      "outputs": []
    },
    {
      "cell_type": "code",
      "source": [
        "path_to_work_dir = \"/content/drive/MyDrive/NLP_HW8/\""
      ],
      "metadata": {
        "id": "1tJ4P4YymL_g"
      },
      "execution_count": 5,
      "outputs": []
    },
    {
      "cell_type": "code",
      "source": [
        "drive.mount('/content/drive/')"
      ],
      "metadata": {
        "id": "PZlLyyWnHUZe",
        "colab": {
          "base_uri": "https://localhost:8080/"
        },
        "outputId": "9b31eb4d-0f43-4dab-8697-857c1bcf49d0"
      },
      "execution_count": 6,
      "outputs": [
        {
          "output_type": "stream",
          "name": "stdout",
          "text": [
            "Mounted at /content/drive/\n"
          ]
        }
      ]
    },
    {
      "cell_type": "code",
      "source": [
        "# MDir(path_to_work_dir)"
      ],
      "metadata": {
        "id": "LLQXPkbSmuvb"
      },
      "execution_count": 7,
      "outputs": []
    },
    {
      "cell_type": "code",
      "source": [
        "# Upload(path_to_work_dir)"
      ],
      "metadata": {
        "id": "NrIPPcKPm2NY"
      },
      "execution_count": 8,
      "outputs": []
    },
    {
      "cell_type": "markdown",
      "source": [
        "# About data"
      ],
      "metadata": {
        "id": "ChWjKThlm4uZ"
      }
    },
    {
      "cell_type": "markdown",
      "source": [
        "## Review data"
      ],
      "metadata": {
        "id": "wfFhID0Enfmt"
      }
    },
    {
      "cell_type": "code",
      "source": [
        "df_train = pd.read_csv(path_to_work_dir + \"train.csv\")\n",
        "df_test = pd.read_csv(path_to_work_dir + \"test.csv\")\n",
        "df_val = pd.read_csv(path_to_work_dir + \"val.csv\")"
      ],
      "metadata": {
        "id": "JxRZ9--Snmbx"
      },
      "execution_count": null,
      "outputs": []
    },
    {
      "cell_type": "code",
      "source": [
        "print(df_train.shape)\n",
        "df_train.head()"
      ],
      "metadata": {
        "colab": {
          "base_uri": "https://localhost:8080/",
          "height": 244
        },
        "collapsed": true,
        "id": "6F_4RwbFoeuB",
        "outputId": "7f509699-e554-487b-fcd0-76a709df53c2"
      },
      "execution_count": null,
      "outputs": [
        {
          "output_type": "stream",
          "name": "stdout",
          "text": [
            "(181467, 3)\n"
          ]
        },
        {
          "output_type": "execute_result",
          "data": {
            "text/plain": [
              "   id                                               text  class\n",
              "0   0  @alisachachka не уезжаааааааай. :(❤ я тоже не ...      0\n",
              "1   1  RT @GalyginVadim: Ребята и девчата!\\nВсе в кин...      1\n",
              "2   2  RT @ARTEM_KLYUSHIN: Кто ненавидит пробки ретви...      0\n",
              "3   3  RT @epupybobv: Хочется котлету по-киевски. Зап...      1\n",
              "4   4  @KarineKurganova @Yess__Boss босапопа есбоса н...      1"
            ],
            "text/html": [
              "\n",
              "  <div id=\"df-7da99475-f814-4640-a201-f77efd9ca773\" class=\"colab-df-container\">\n",
              "    <div>\n",
              "<style scoped>\n",
              "    .dataframe tbody tr th:only-of-type {\n",
              "        vertical-align: middle;\n",
              "    }\n",
              "\n",
              "    .dataframe tbody tr th {\n",
              "        vertical-align: top;\n",
              "    }\n",
              "\n",
              "    .dataframe thead th {\n",
              "        text-align: right;\n",
              "    }\n",
              "</style>\n",
              "<table border=\"1\" class=\"dataframe\">\n",
              "  <thead>\n",
              "    <tr style=\"text-align: right;\">\n",
              "      <th></th>\n",
              "      <th>id</th>\n",
              "      <th>text</th>\n",
              "      <th>class</th>\n",
              "    </tr>\n",
              "  </thead>\n",
              "  <tbody>\n",
              "    <tr>\n",
              "      <th>0</th>\n",
              "      <td>0</td>\n",
              "      <td>@alisachachka не уезжаааааааай. :(❤ я тоже не ...</td>\n",
              "      <td>0</td>\n",
              "    </tr>\n",
              "    <tr>\n",
              "      <th>1</th>\n",
              "      <td>1</td>\n",
              "      <td>RT @GalyginVadim: Ребята и девчата!\\nВсе в кин...</td>\n",
              "      <td>1</td>\n",
              "    </tr>\n",
              "    <tr>\n",
              "      <th>2</th>\n",
              "      <td>2</td>\n",
              "      <td>RT @ARTEM_KLYUSHIN: Кто ненавидит пробки ретви...</td>\n",
              "      <td>0</td>\n",
              "    </tr>\n",
              "    <tr>\n",
              "      <th>3</th>\n",
              "      <td>3</td>\n",
              "      <td>RT @epupybobv: Хочется котлету по-киевски. Зап...</td>\n",
              "      <td>1</td>\n",
              "    </tr>\n",
              "    <tr>\n",
              "      <th>4</th>\n",
              "      <td>4</td>\n",
              "      <td>@KarineKurganova @Yess__Boss босапопа есбоса н...</td>\n",
              "      <td>1</td>\n",
              "    </tr>\n",
              "  </tbody>\n",
              "</table>\n",
              "</div>\n",
              "    <div class=\"colab-df-buttons\">\n",
              "\n",
              "  <div class=\"colab-df-container\">\n",
              "    <button class=\"colab-df-convert\" onclick=\"convertToInteractive('df-7da99475-f814-4640-a201-f77efd9ca773')\"\n",
              "            title=\"Convert this dataframe to an interactive table.\"\n",
              "            style=\"display:none;\">\n",
              "\n",
              "  <svg xmlns=\"http://www.w3.org/2000/svg\" height=\"24px\" viewBox=\"0 -960 960 960\">\n",
              "    <path d=\"M120-120v-720h720v720H120Zm60-500h600v-160H180v160Zm220 220h160v-160H400v160Zm0 220h160v-160H400v160ZM180-400h160v-160H180v160Zm440 0h160v-160H620v160ZM180-180h160v-160H180v160Zm440 0h160v-160H620v160Z\"/>\n",
              "  </svg>\n",
              "    </button>\n",
              "\n",
              "  <style>\n",
              "    .colab-df-container {\n",
              "      display:flex;\n",
              "      gap: 12px;\n",
              "    }\n",
              "\n",
              "    .colab-df-convert {\n",
              "      background-color: #E8F0FE;\n",
              "      border: none;\n",
              "      border-radius: 50%;\n",
              "      cursor: pointer;\n",
              "      display: none;\n",
              "      fill: #1967D2;\n",
              "      height: 32px;\n",
              "      padding: 0 0 0 0;\n",
              "      width: 32px;\n",
              "    }\n",
              "\n",
              "    .colab-df-convert:hover {\n",
              "      background-color: #E2EBFA;\n",
              "      box-shadow: 0px 1px 2px rgba(60, 64, 67, 0.3), 0px 1px 3px 1px rgba(60, 64, 67, 0.15);\n",
              "      fill: #174EA6;\n",
              "    }\n",
              "\n",
              "    .colab-df-buttons div {\n",
              "      margin-bottom: 4px;\n",
              "    }\n",
              "\n",
              "    [theme=dark] .colab-df-convert {\n",
              "      background-color: #3B4455;\n",
              "      fill: #D2E3FC;\n",
              "    }\n",
              "\n",
              "    [theme=dark] .colab-df-convert:hover {\n",
              "      background-color: #434B5C;\n",
              "      box-shadow: 0px 1px 3px 1px rgba(0, 0, 0, 0.15);\n",
              "      filter: drop-shadow(0px 1px 2px rgba(0, 0, 0, 0.3));\n",
              "      fill: #FFFFFF;\n",
              "    }\n",
              "  </style>\n",
              "\n",
              "    <script>\n",
              "      const buttonEl =\n",
              "        document.querySelector('#df-7da99475-f814-4640-a201-f77efd9ca773 button.colab-df-convert');\n",
              "      buttonEl.style.display =\n",
              "        google.colab.kernel.accessAllowed ? 'block' : 'none';\n",
              "\n",
              "      async function convertToInteractive(key) {\n",
              "        const element = document.querySelector('#df-7da99475-f814-4640-a201-f77efd9ca773');\n",
              "        const dataTable =\n",
              "          await google.colab.kernel.invokeFunction('convertToInteractive',\n",
              "                                                    [key], {});\n",
              "        if (!dataTable) return;\n",
              "\n",
              "        const docLinkHtml = 'Like what you see? Visit the ' +\n",
              "          '<a target=\"_blank\" href=https://colab.research.google.com/notebooks/data_table.ipynb>data table notebook</a>'\n",
              "          + ' to learn more about interactive tables.';\n",
              "        element.innerHTML = '';\n",
              "        dataTable['output_type'] = 'display_data';\n",
              "        await google.colab.output.renderOutput(dataTable, element);\n",
              "        const docLink = document.createElement('div');\n",
              "        docLink.innerHTML = docLinkHtml;\n",
              "        element.appendChild(docLink);\n",
              "      }\n",
              "    </script>\n",
              "  </div>\n",
              "\n",
              "\n",
              "<div id=\"df-db89530b-3552-4d2e-9867-4a6d7be9182e\">\n",
              "  <button class=\"colab-df-quickchart\" onclick=\"quickchart('df-db89530b-3552-4d2e-9867-4a6d7be9182e')\"\n",
              "            title=\"Suggest charts\"\n",
              "            style=\"display:none;\">\n",
              "\n",
              "<svg xmlns=\"http://www.w3.org/2000/svg\" height=\"24px\"viewBox=\"0 0 24 24\"\n",
              "     width=\"24px\">\n",
              "    <g>\n",
              "        <path d=\"M19 3H5c-1.1 0-2 .9-2 2v14c0 1.1.9 2 2 2h14c1.1 0 2-.9 2-2V5c0-1.1-.9-2-2-2zM9 17H7v-7h2v7zm4 0h-2V7h2v10zm4 0h-2v-4h2v4z\"/>\n",
              "    </g>\n",
              "</svg>\n",
              "  </button>\n",
              "\n",
              "<style>\n",
              "  .colab-df-quickchart {\n",
              "      --bg-color: #E8F0FE;\n",
              "      --fill-color: #1967D2;\n",
              "      --hover-bg-color: #E2EBFA;\n",
              "      --hover-fill-color: #174EA6;\n",
              "      --disabled-fill-color: #AAA;\n",
              "      --disabled-bg-color: #DDD;\n",
              "  }\n",
              "\n",
              "  [theme=dark] .colab-df-quickchart {\n",
              "      --bg-color: #3B4455;\n",
              "      --fill-color: #D2E3FC;\n",
              "      --hover-bg-color: #434B5C;\n",
              "      --hover-fill-color: #FFFFFF;\n",
              "      --disabled-bg-color: #3B4455;\n",
              "      --disabled-fill-color: #666;\n",
              "  }\n",
              "\n",
              "  .colab-df-quickchart {\n",
              "    background-color: var(--bg-color);\n",
              "    border: none;\n",
              "    border-radius: 50%;\n",
              "    cursor: pointer;\n",
              "    display: none;\n",
              "    fill: var(--fill-color);\n",
              "    height: 32px;\n",
              "    padding: 0;\n",
              "    width: 32px;\n",
              "  }\n",
              "\n",
              "  .colab-df-quickchart:hover {\n",
              "    background-color: var(--hover-bg-color);\n",
              "    box-shadow: 0 1px 2px rgba(60, 64, 67, 0.3), 0 1px 3px 1px rgba(60, 64, 67, 0.15);\n",
              "    fill: var(--button-hover-fill-color);\n",
              "  }\n",
              "\n",
              "  .colab-df-quickchart-complete:disabled,\n",
              "  .colab-df-quickchart-complete:disabled:hover {\n",
              "    background-color: var(--disabled-bg-color);\n",
              "    fill: var(--disabled-fill-color);\n",
              "    box-shadow: none;\n",
              "  }\n",
              "\n",
              "  .colab-df-spinner {\n",
              "    border: 2px solid var(--fill-color);\n",
              "    border-color: transparent;\n",
              "    border-bottom-color: var(--fill-color);\n",
              "    animation:\n",
              "      spin 1s steps(1) infinite;\n",
              "  }\n",
              "\n",
              "  @keyframes spin {\n",
              "    0% {\n",
              "      border-color: transparent;\n",
              "      border-bottom-color: var(--fill-color);\n",
              "      border-left-color: var(--fill-color);\n",
              "    }\n",
              "    20% {\n",
              "      border-color: transparent;\n",
              "      border-left-color: var(--fill-color);\n",
              "      border-top-color: var(--fill-color);\n",
              "    }\n",
              "    30% {\n",
              "      border-color: transparent;\n",
              "      border-left-color: var(--fill-color);\n",
              "      border-top-color: var(--fill-color);\n",
              "      border-right-color: var(--fill-color);\n",
              "    }\n",
              "    40% {\n",
              "      border-color: transparent;\n",
              "      border-right-color: var(--fill-color);\n",
              "      border-top-color: var(--fill-color);\n",
              "    }\n",
              "    60% {\n",
              "      border-color: transparent;\n",
              "      border-right-color: var(--fill-color);\n",
              "    }\n",
              "    80% {\n",
              "      border-color: transparent;\n",
              "      border-right-color: var(--fill-color);\n",
              "      border-bottom-color: var(--fill-color);\n",
              "    }\n",
              "    90% {\n",
              "      border-color: transparent;\n",
              "      border-bottom-color: var(--fill-color);\n",
              "    }\n",
              "  }\n",
              "</style>\n",
              "\n",
              "  <script>\n",
              "    async function quickchart(key) {\n",
              "      const quickchartButtonEl =\n",
              "        document.querySelector('#' + key + ' button');\n",
              "      quickchartButtonEl.disabled = true;  // To prevent multiple clicks.\n",
              "      quickchartButtonEl.classList.add('colab-df-spinner');\n",
              "      try {\n",
              "        const charts = await google.colab.kernel.invokeFunction(\n",
              "            'suggestCharts', [key], {});\n",
              "      } catch (error) {\n",
              "        console.error('Error during call to suggestCharts:', error);\n",
              "      }\n",
              "      quickchartButtonEl.classList.remove('colab-df-spinner');\n",
              "      quickchartButtonEl.classList.add('colab-df-quickchart-complete');\n",
              "    }\n",
              "    (() => {\n",
              "      let quickchartButtonEl =\n",
              "        document.querySelector('#df-db89530b-3552-4d2e-9867-4a6d7be9182e button');\n",
              "      quickchartButtonEl.style.display =\n",
              "        google.colab.kernel.accessAllowed ? 'block' : 'none';\n",
              "    })();\n",
              "  </script>\n",
              "</div>\n",
              "    </div>\n",
              "  </div>\n"
            ],
            "application/vnd.google.colaboratory.intrinsic+json": {
              "type": "dataframe",
              "variable_name": "df_train"
            }
          },
          "metadata": {},
          "execution_count": 157
        }
      ]
    },
    {
      "cell_type": "code",
      "source": [
        "print(df_test.shape)\n",
        "df_test.head()"
      ],
      "metadata": {
        "colab": {
          "base_uri": "https://localhost:8080/",
          "height": 244
        },
        "collapsed": true,
        "id": "HG1jpEzwoopC",
        "outputId": "d8560302-cf37-4083-a5b7-1b0f4f8e1328"
      },
      "execution_count": null,
      "outputs": [
        {
          "output_type": "stream",
          "name": "stdout",
          "text": [
            "(22684, 2)\n"
          ]
        },
        {
          "output_type": "execute_result",
          "data": {
            "text/plain": [
              "       id                                               text\n",
              "0  204150   Тектоника и рельеф-самое ужасное в мире мучение(\n",
              "1  204151  Ходили запускать шар желаний, но у нас не полу...\n",
              "2  204152  Хочу лето только ради того, что бы направить н...\n",
              "3  204153  RT @RonyLiss: @colf_ne блин((\\nа я шипперила Ф...\n",
              "4  204154  RT @anna_romt: @ZADROT_PO_IGRAM блин,каждое во..."
            ],
            "text/html": [
              "\n",
              "  <div id=\"df-20e491e3-8ecc-4a4b-8d88-d5dbf7e4c06b\" class=\"colab-df-container\">\n",
              "    <div>\n",
              "<style scoped>\n",
              "    .dataframe tbody tr th:only-of-type {\n",
              "        vertical-align: middle;\n",
              "    }\n",
              "\n",
              "    .dataframe tbody tr th {\n",
              "        vertical-align: top;\n",
              "    }\n",
              "\n",
              "    .dataframe thead th {\n",
              "        text-align: right;\n",
              "    }\n",
              "</style>\n",
              "<table border=\"1\" class=\"dataframe\">\n",
              "  <thead>\n",
              "    <tr style=\"text-align: right;\">\n",
              "      <th></th>\n",
              "      <th>id</th>\n",
              "      <th>text</th>\n",
              "    </tr>\n",
              "  </thead>\n",
              "  <tbody>\n",
              "    <tr>\n",
              "      <th>0</th>\n",
              "      <td>204150</td>\n",
              "      <td>Тектоника и рельеф-самое ужасное в мире мучение(</td>\n",
              "    </tr>\n",
              "    <tr>\n",
              "      <th>1</th>\n",
              "      <td>204151</td>\n",
              "      <td>Ходили запускать шар желаний, но у нас не полу...</td>\n",
              "    </tr>\n",
              "    <tr>\n",
              "      <th>2</th>\n",
              "      <td>204152</td>\n",
              "      <td>Хочу лето только ради того, что бы направить н...</td>\n",
              "    </tr>\n",
              "    <tr>\n",
              "      <th>3</th>\n",
              "      <td>204153</td>\n",
              "      <td>RT @RonyLiss: @colf_ne блин((\\nа я шипперила Ф...</td>\n",
              "    </tr>\n",
              "    <tr>\n",
              "      <th>4</th>\n",
              "      <td>204154</td>\n",
              "      <td>RT @anna_romt: @ZADROT_PO_IGRAM блин,каждое во...</td>\n",
              "    </tr>\n",
              "  </tbody>\n",
              "</table>\n",
              "</div>\n",
              "    <div class=\"colab-df-buttons\">\n",
              "\n",
              "  <div class=\"colab-df-container\">\n",
              "    <button class=\"colab-df-convert\" onclick=\"convertToInteractive('df-20e491e3-8ecc-4a4b-8d88-d5dbf7e4c06b')\"\n",
              "            title=\"Convert this dataframe to an interactive table.\"\n",
              "            style=\"display:none;\">\n",
              "\n",
              "  <svg xmlns=\"http://www.w3.org/2000/svg\" height=\"24px\" viewBox=\"0 -960 960 960\">\n",
              "    <path d=\"M120-120v-720h720v720H120Zm60-500h600v-160H180v160Zm220 220h160v-160H400v160Zm0 220h160v-160H400v160ZM180-400h160v-160H180v160Zm440 0h160v-160H620v160ZM180-180h160v-160H180v160Zm440 0h160v-160H620v160Z\"/>\n",
              "  </svg>\n",
              "    </button>\n",
              "\n",
              "  <style>\n",
              "    .colab-df-container {\n",
              "      display:flex;\n",
              "      gap: 12px;\n",
              "    }\n",
              "\n",
              "    .colab-df-convert {\n",
              "      background-color: #E8F0FE;\n",
              "      border: none;\n",
              "      border-radius: 50%;\n",
              "      cursor: pointer;\n",
              "      display: none;\n",
              "      fill: #1967D2;\n",
              "      height: 32px;\n",
              "      padding: 0 0 0 0;\n",
              "      width: 32px;\n",
              "    }\n",
              "\n",
              "    .colab-df-convert:hover {\n",
              "      background-color: #E2EBFA;\n",
              "      box-shadow: 0px 1px 2px rgba(60, 64, 67, 0.3), 0px 1px 3px 1px rgba(60, 64, 67, 0.15);\n",
              "      fill: #174EA6;\n",
              "    }\n",
              "\n",
              "    .colab-df-buttons div {\n",
              "      margin-bottom: 4px;\n",
              "    }\n",
              "\n",
              "    [theme=dark] .colab-df-convert {\n",
              "      background-color: #3B4455;\n",
              "      fill: #D2E3FC;\n",
              "    }\n",
              "\n",
              "    [theme=dark] .colab-df-convert:hover {\n",
              "      background-color: #434B5C;\n",
              "      box-shadow: 0px 1px 3px 1px rgba(0, 0, 0, 0.15);\n",
              "      filter: drop-shadow(0px 1px 2px rgba(0, 0, 0, 0.3));\n",
              "      fill: #FFFFFF;\n",
              "    }\n",
              "  </style>\n",
              "\n",
              "    <script>\n",
              "      const buttonEl =\n",
              "        document.querySelector('#df-20e491e3-8ecc-4a4b-8d88-d5dbf7e4c06b button.colab-df-convert');\n",
              "      buttonEl.style.display =\n",
              "        google.colab.kernel.accessAllowed ? 'block' : 'none';\n",
              "\n",
              "      async function convertToInteractive(key) {\n",
              "        const element = document.querySelector('#df-20e491e3-8ecc-4a4b-8d88-d5dbf7e4c06b');\n",
              "        const dataTable =\n",
              "          await google.colab.kernel.invokeFunction('convertToInteractive',\n",
              "                                                    [key], {});\n",
              "        if (!dataTable) return;\n",
              "\n",
              "        const docLinkHtml = 'Like what you see? Visit the ' +\n",
              "          '<a target=\"_blank\" href=https://colab.research.google.com/notebooks/data_table.ipynb>data table notebook</a>'\n",
              "          + ' to learn more about interactive tables.';\n",
              "        element.innerHTML = '';\n",
              "        dataTable['output_type'] = 'display_data';\n",
              "        await google.colab.output.renderOutput(dataTable, element);\n",
              "        const docLink = document.createElement('div');\n",
              "        docLink.innerHTML = docLinkHtml;\n",
              "        element.appendChild(docLink);\n",
              "      }\n",
              "    </script>\n",
              "  </div>\n",
              "\n",
              "\n",
              "<div id=\"df-63c3d268-6b06-4143-a0a7-e59f98814556\">\n",
              "  <button class=\"colab-df-quickchart\" onclick=\"quickchart('df-63c3d268-6b06-4143-a0a7-e59f98814556')\"\n",
              "            title=\"Suggest charts\"\n",
              "            style=\"display:none;\">\n",
              "\n",
              "<svg xmlns=\"http://www.w3.org/2000/svg\" height=\"24px\"viewBox=\"0 0 24 24\"\n",
              "     width=\"24px\">\n",
              "    <g>\n",
              "        <path d=\"M19 3H5c-1.1 0-2 .9-2 2v14c0 1.1.9 2 2 2h14c1.1 0 2-.9 2-2V5c0-1.1-.9-2-2-2zM9 17H7v-7h2v7zm4 0h-2V7h2v10zm4 0h-2v-4h2v4z\"/>\n",
              "    </g>\n",
              "</svg>\n",
              "  </button>\n",
              "\n",
              "<style>\n",
              "  .colab-df-quickchart {\n",
              "      --bg-color: #E8F0FE;\n",
              "      --fill-color: #1967D2;\n",
              "      --hover-bg-color: #E2EBFA;\n",
              "      --hover-fill-color: #174EA6;\n",
              "      --disabled-fill-color: #AAA;\n",
              "      --disabled-bg-color: #DDD;\n",
              "  }\n",
              "\n",
              "  [theme=dark] .colab-df-quickchart {\n",
              "      --bg-color: #3B4455;\n",
              "      --fill-color: #D2E3FC;\n",
              "      --hover-bg-color: #434B5C;\n",
              "      --hover-fill-color: #FFFFFF;\n",
              "      --disabled-bg-color: #3B4455;\n",
              "      --disabled-fill-color: #666;\n",
              "  }\n",
              "\n",
              "  .colab-df-quickchart {\n",
              "    background-color: var(--bg-color);\n",
              "    border: none;\n",
              "    border-radius: 50%;\n",
              "    cursor: pointer;\n",
              "    display: none;\n",
              "    fill: var(--fill-color);\n",
              "    height: 32px;\n",
              "    padding: 0;\n",
              "    width: 32px;\n",
              "  }\n",
              "\n",
              "  .colab-df-quickchart:hover {\n",
              "    background-color: var(--hover-bg-color);\n",
              "    box-shadow: 0 1px 2px rgba(60, 64, 67, 0.3), 0 1px 3px 1px rgba(60, 64, 67, 0.15);\n",
              "    fill: var(--button-hover-fill-color);\n",
              "  }\n",
              "\n",
              "  .colab-df-quickchart-complete:disabled,\n",
              "  .colab-df-quickchart-complete:disabled:hover {\n",
              "    background-color: var(--disabled-bg-color);\n",
              "    fill: var(--disabled-fill-color);\n",
              "    box-shadow: none;\n",
              "  }\n",
              "\n",
              "  .colab-df-spinner {\n",
              "    border: 2px solid var(--fill-color);\n",
              "    border-color: transparent;\n",
              "    border-bottom-color: var(--fill-color);\n",
              "    animation:\n",
              "      spin 1s steps(1) infinite;\n",
              "  }\n",
              "\n",
              "  @keyframes spin {\n",
              "    0% {\n",
              "      border-color: transparent;\n",
              "      border-bottom-color: var(--fill-color);\n",
              "      border-left-color: var(--fill-color);\n",
              "    }\n",
              "    20% {\n",
              "      border-color: transparent;\n",
              "      border-left-color: var(--fill-color);\n",
              "      border-top-color: var(--fill-color);\n",
              "    }\n",
              "    30% {\n",
              "      border-color: transparent;\n",
              "      border-left-color: var(--fill-color);\n",
              "      border-top-color: var(--fill-color);\n",
              "      border-right-color: var(--fill-color);\n",
              "    }\n",
              "    40% {\n",
              "      border-color: transparent;\n",
              "      border-right-color: var(--fill-color);\n",
              "      border-top-color: var(--fill-color);\n",
              "    }\n",
              "    60% {\n",
              "      border-color: transparent;\n",
              "      border-right-color: var(--fill-color);\n",
              "    }\n",
              "    80% {\n",
              "      border-color: transparent;\n",
              "      border-right-color: var(--fill-color);\n",
              "      border-bottom-color: var(--fill-color);\n",
              "    }\n",
              "    90% {\n",
              "      border-color: transparent;\n",
              "      border-bottom-color: var(--fill-color);\n",
              "    }\n",
              "  }\n",
              "</style>\n",
              "\n",
              "  <script>\n",
              "    async function quickchart(key) {\n",
              "      const quickchartButtonEl =\n",
              "        document.querySelector('#' + key + ' button');\n",
              "      quickchartButtonEl.disabled = true;  // To prevent multiple clicks.\n",
              "      quickchartButtonEl.classList.add('colab-df-spinner');\n",
              "      try {\n",
              "        const charts = await google.colab.kernel.invokeFunction(\n",
              "            'suggestCharts', [key], {});\n",
              "      } catch (error) {\n",
              "        console.error('Error during call to suggestCharts:', error);\n",
              "      }\n",
              "      quickchartButtonEl.classList.remove('colab-df-spinner');\n",
              "      quickchartButtonEl.classList.add('colab-df-quickchart-complete');\n",
              "    }\n",
              "    (() => {\n",
              "      let quickchartButtonEl =\n",
              "        document.querySelector('#df-63c3d268-6b06-4143-a0a7-e59f98814556 button');\n",
              "      quickchartButtonEl.style.display =\n",
              "        google.colab.kernel.accessAllowed ? 'block' : 'none';\n",
              "    })();\n",
              "  </script>\n",
              "</div>\n",
              "    </div>\n",
              "  </div>\n"
            ],
            "application/vnd.google.colaboratory.intrinsic+json": {
              "type": "dataframe",
              "variable_name": "df_test",
              "summary": "{\n  \"name\": \"df_test\",\n  \"rows\": 22684,\n  \"fields\": [\n    {\n      \"column\": \"id\",\n      \"properties\": {\n        \"dtype\": \"number\",\n        \"std\": 6548,\n        \"min\": 204150,\n        \"max\": 226833,\n        \"num_unique_values\": 22684,\n        \"samples\": [\n          220238,\n          213835,\n          213086\n        ],\n        \"semantic_type\": \"\",\n        \"description\": \"\"\n      }\n    },\n    {\n      \"column\": \"text\",\n      \"properties\": {\n        \"dtype\": \"string\",\n        \"num_unique_values\": 22448,\n        \"samples\": [\n          \"@botmachinee \\u0434\\u0430 \\u043a\\u043e\\u0440\\u043e\\u0447\\u0435 \\u043c\\u0430\\u0448\\u0438\\u043d\\u0443 \\u0442\\u0440\\u0435\\u043d\\u0435\\u0440 \\u043d\\u0435 \\u043c\\u043e\\u0436\\u0435\\u0442 \\u043d\\u0430\\u0439\\u0442\\u0438\\n\\u0434\\u043e\\u0440\\u043e\\u0433\\u0438\\u0435 \\u0432\\u0441\\u0435(((\",\n          \"@Anadolu_olgy \\u0435\\u0441\\u0442\\u044c \\u0442\\u0430\\u043a\\u043e\\u0435 \\u0434\\u0435\\u043b\\u043e ;) http://t.co/JcRS0Z2uKA\",\n          \"\\u0430\\u0430.. \\u0441\\u043a\\u043e\\u0440\\u043e \\u041d\\u043e\\u0432\\u044b\\u0439 \\u0433\\u043e\\u0434!\\u043d\\u0435\\u0443\\u0436\\u0435\\u043b\\u0438. \\u0435\\u0441\\u043b\\u0438 \\u0432\\u0441\\u0435 \\u043f\\u043e\\u043b\\u0443\\u0447\\u0438\\u0442\\u0441\\u044f, \\u0442\\u043e \\u044f \\u0435\\u0433\\u043e \\u043d\\u0438\\u043a\\u043e\\u0433\\u0434\\u0430 \\u043d\\u0435 \\u0437\\u0430\\u0431\\u0443\\u0434\\u0443)\"\n        ],\n        \"semantic_type\": \"\",\n        \"description\": \"\"\n      }\n    }\n  ]\n}"
            }
          },
          "metadata": {},
          "execution_count": 158
        }
      ]
    },
    {
      "cell_type": "code",
      "source": [
        "print(df_val.shape)\n",
        "df_val.head()"
      ],
      "metadata": {
        "colab": {
          "base_uri": "https://localhost:8080/",
          "height": 244
        },
        "id": "l_ikLyxgorOJ",
        "outputId": "1cda8888-83d9-488f-d488-d45bfbbc06c4"
      },
      "execution_count": null,
      "outputs": [
        {
          "output_type": "stream",
          "name": "stdout",
          "text": [
            "(22683, 3)\n"
          ]
        },
        {
          "output_type": "execute_result",
          "data": {
            "text/plain": [
              "       id                                               text  class\n",
              "0  181467  RT @TukvaSociopat: Максимальный репост! ))) #є...      1\n",
              "1  181468  чтоб у меня з.п. ежегодно индексировали на инд...      0\n",
              "2  181469        @chilyandlime нехуя мне не хорошо !!! :((((      0\n",
              "3  181470  @inafish нее , когда ногами ахахах когда?ахаха...      0\n",
              "4  181471  Хочу сделать как лучше,  а получаю как всегда. :(      0"
            ],
            "text/html": [
              "\n",
              "  <div id=\"df-ec331013-36a7-495e-b7ad-e76c933348d5\" class=\"colab-df-container\">\n",
              "    <div>\n",
              "<style scoped>\n",
              "    .dataframe tbody tr th:only-of-type {\n",
              "        vertical-align: middle;\n",
              "    }\n",
              "\n",
              "    .dataframe tbody tr th {\n",
              "        vertical-align: top;\n",
              "    }\n",
              "\n",
              "    .dataframe thead th {\n",
              "        text-align: right;\n",
              "    }\n",
              "</style>\n",
              "<table border=\"1\" class=\"dataframe\">\n",
              "  <thead>\n",
              "    <tr style=\"text-align: right;\">\n",
              "      <th></th>\n",
              "      <th>id</th>\n",
              "      <th>text</th>\n",
              "      <th>class</th>\n",
              "    </tr>\n",
              "  </thead>\n",
              "  <tbody>\n",
              "    <tr>\n",
              "      <th>0</th>\n",
              "      <td>181467</td>\n",
              "      <td>RT @TukvaSociopat: Максимальный репост! ))) #є...</td>\n",
              "      <td>1</td>\n",
              "    </tr>\n",
              "    <tr>\n",
              "      <th>1</th>\n",
              "      <td>181468</td>\n",
              "      <td>чтоб у меня з.п. ежегодно индексировали на инд...</td>\n",
              "      <td>0</td>\n",
              "    </tr>\n",
              "    <tr>\n",
              "      <th>2</th>\n",
              "      <td>181469</td>\n",
              "      <td>@chilyandlime нехуя мне не хорошо !!! :((((</td>\n",
              "      <td>0</td>\n",
              "    </tr>\n",
              "    <tr>\n",
              "      <th>3</th>\n",
              "      <td>181470</td>\n",
              "      <td>@inafish нее , когда ногами ахахах когда?ахаха...</td>\n",
              "      <td>0</td>\n",
              "    </tr>\n",
              "    <tr>\n",
              "      <th>4</th>\n",
              "      <td>181471</td>\n",
              "      <td>Хочу сделать как лучше,  а получаю как всегда. :(</td>\n",
              "      <td>0</td>\n",
              "    </tr>\n",
              "  </tbody>\n",
              "</table>\n",
              "</div>\n",
              "    <div class=\"colab-df-buttons\">\n",
              "\n",
              "  <div class=\"colab-df-container\">\n",
              "    <button class=\"colab-df-convert\" onclick=\"convertToInteractive('df-ec331013-36a7-495e-b7ad-e76c933348d5')\"\n",
              "            title=\"Convert this dataframe to an interactive table.\"\n",
              "            style=\"display:none;\">\n",
              "\n",
              "  <svg xmlns=\"http://www.w3.org/2000/svg\" height=\"24px\" viewBox=\"0 -960 960 960\">\n",
              "    <path d=\"M120-120v-720h720v720H120Zm60-500h600v-160H180v160Zm220 220h160v-160H400v160Zm0 220h160v-160H400v160ZM180-400h160v-160H180v160Zm440 0h160v-160H620v160ZM180-180h160v-160H180v160Zm440 0h160v-160H620v160Z\"/>\n",
              "  </svg>\n",
              "    </button>\n",
              "\n",
              "  <style>\n",
              "    .colab-df-container {\n",
              "      display:flex;\n",
              "      gap: 12px;\n",
              "    }\n",
              "\n",
              "    .colab-df-convert {\n",
              "      background-color: #E8F0FE;\n",
              "      border: none;\n",
              "      border-radius: 50%;\n",
              "      cursor: pointer;\n",
              "      display: none;\n",
              "      fill: #1967D2;\n",
              "      height: 32px;\n",
              "      padding: 0 0 0 0;\n",
              "      width: 32px;\n",
              "    }\n",
              "\n",
              "    .colab-df-convert:hover {\n",
              "      background-color: #E2EBFA;\n",
              "      box-shadow: 0px 1px 2px rgba(60, 64, 67, 0.3), 0px 1px 3px 1px rgba(60, 64, 67, 0.15);\n",
              "      fill: #174EA6;\n",
              "    }\n",
              "\n",
              "    .colab-df-buttons div {\n",
              "      margin-bottom: 4px;\n",
              "    }\n",
              "\n",
              "    [theme=dark] .colab-df-convert {\n",
              "      background-color: #3B4455;\n",
              "      fill: #D2E3FC;\n",
              "    }\n",
              "\n",
              "    [theme=dark] .colab-df-convert:hover {\n",
              "      background-color: #434B5C;\n",
              "      box-shadow: 0px 1px 3px 1px rgba(0, 0, 0, 0.15);\n",
              "      filter: drop-shadow(0px 1px 2px rgba(0, 0, 0, 0.3));\n",
              "      fill: #FFFFFF;\n",
              "    }\n",
              "  </style>\n",
              "\n",
              "    <script>\n",
              "      const buttonEl =\n",
              "        document.querySelector('#df-ec331013-36a7-495e-b7ad-e76c933348d5 button.colab-df-convert');\n",
              "      buttonEl.style.display =\n",
              "        google.colab.kernel.accessAllowed ? 'block' : 'none';\n",
              "\n",
              "      async function convertToInteractive(key) {\n",
              "        const element = document.querySelector('#df-ec331013-36a7-495e-b7ad-e76c933348d5');\n",
              "        const dataTable =\n",
              "          await google.colab.kernel.invokeFunction('convertToInteractive',\n",
              "                                                    [key], {});\n",
              "        if (!dataTable) return;\n",
              "\n",
              "        const docLinkHtml = 'Like what you see? Visit the ' +\n",
              "          '<a target=\"_blank\" href=https://colab.research.google.com/notebooks/data_table.ipynb>data table notebook</a>'\n",
              "          + ' to learn more about interactive tables.';\n",
              "        element.innerHTML = '';\n",
              "        dataTable['output_type'] = 'display_data';\n",
              "        await google.colab.output.renderOutput(dataTable, element);\n",
              "        const docLink = document.createElement('div');\n",
              "        docLink.innerHTML = docLinkHtml;\n",
              "        element.appendChild(docLink);\n",
              "      }\n",
              "    </script>\n",
              "  </div>\n",
              "\n",
              "\n",
              "<div id=\"df-153999fe-2fc2-4409-aafc-c408e86e1973\">\n",
              "  <button class=\"colab-df-quickchart\" onclick=\"quickchart('df-153999fe-2fc2-4409-aafc-c408e86e1973')\"\n",
              "            title=\"Suggest charts\"\n",
              "            style=\"display:none;\">\n",
              "\n",
              "<svg xmlns=\"http://www.w3.org/2000/svg\" height=\"24px\"viewBox=\"0 0 24 24\"\n",
              "     width=\"24px\">\n",
              "    <g>\n",
              "        <path d=\"M19 3H5c-1.1 0-2 .9-2 2v14c0 1.1.9 2 2 2h14c1.1 0 2-.9 2-2V5c0-1.1-.9-2-2-2zM9 17H7v-7h2v7zm4 0h-2V7h2v10zm4 0h-2v-4h2v4z\"/>\n",
              "    </g>\n",
              "</svg>\n",
              "  </button>\n",
              "\n",
              "<style>\n",
              "  .colab-df-quickchart {\n",
              "      --bg-color: #E8F0FE;\n",
              "      --fill-color: #1967D2;\n",
              "      --hover-bg-color: #E2EBFA;\n",
              "      --hover-fill-color: #174EA6;\n",
              "      --disabled-fill-color: #AAA;\n",
              "      --disabled-bg-color: #DDD;\n",
              "  }\n",
              "\n",
              "  [theme=dark] .colab-df-quickchart {\n",
              "      --bg-color: #3B4455;\n",
              "      --fill-color: #D2E3FC;\n",
              "      --hover-bg-color: #434B5C;\n",
              "      --hover-fill-color: #FFFFFF;\n",
              "      --disabled-bg-color: #3B4455;\n",
              "      --disabled-fill-color: #666;\n",
              "  }\n",
              "\n",
              "  .colab-df-quickchart {\n",
              "    background-color: var(--bg-color);\n",
              "    border: none;\n",
              "    border-radius: 50%;\n",
              "    cursor: pointer;\n",
              "    display: none;\n",
              "    fill: var(--fill-color);\n",
              "    height: 32px;\n",
              "    padding: 0;\n",
              "    width: 32px;\n",
              "  }\n",
              "\n",
              "  .colab-df-quickchart:hover {\n",
              "    background-color: var(--hover-bg-color);\n",
              "    box-shadow: 0 1px 2px rgba(60, 64, 67, 0.3), 0 1px 3px 1px rgba(60, 64, 67, 0.15);\n",
              "    fill: var(--button-hover-fill-color);\n",
              "  }\n",
              "\n",
              "  .colab-df-quickchart-complete:disabled,\n",
              "  .colab-df-quickchart-complete:disabled:hover {\n",
              "    background-color: var(--disabled-bg-color);\n",
              "    fill: var(--disabled-fill-color);\n",
              "    box-shadow: none;\n",
              "  }\n",
              "\n",
              "  .colab-df-spinner {\n",
              "    border: 2px solid var(--fill-color);\n",
              "    border-color: transparent;\n",
              "    border-bottom-color: var(--fill-color);\n",
              "    animation:\n",
              "      spin 1s steps(1) infinite;\n",
              "  }\n",
              "\n",
              "  @keyframes spin {\n",
              "    0% {\n",
              "      border-color: transparent;\n",
              "      border-bottom-color: var(--fill-color);\n",
              "      border-left-color: var(--fill-color);\n",
              "    }\n",
              "    20% {\n",
              "      border-color: transparent;\n",
              "      border-left-color: var(--fill-color);\n",
              "      border-top-color: var(--fill-color);\n",
              "    }\n",
              "    30% {\n",
              "      border-color: transparent;\n",
              "      border-left-color: var(--fill-color);\n",
              "      border-top-color: var(--fill-color);\n",
              "      border-right-color: var(--fill-color);\n",
              "    }\n",
              "    40% {\n",
              "      border-color: transparent;\n",
              "      border-right-color: var(--fill-color);\n",
              "      border-top-color: var(--fill-color);\n",
              "    }\n",
              "    60% {\n",
              "      border-color: transparent;\n",
              "      border-right-color: var(--fill-color);\n",
              "    }\n",
              "    80% {\n",
              "      border-color: transparent;\n",
              "      border-right-color: var(--fill-color);\n",
              "      border-bottom-color: var(--fill-color);\n",
              "    }\n",
              "    90% {\n",
              "      border-color: transparent;\n",
              "      border-bottom-color: var(--fill-color);\n",
              "    }\n",
              "  }\n",
              "</style>\n",
              "\n",
              "  <script>\n",
              "    async function quickchart(key) {\n",
              "      const quickchartButtonEl =\n",
              "        document.querySelector('#' + key + ' button');\n",
              "      quickchartButtonEl.disabled = true;  // To prevent multiple clicks.\n",
              "      quickchartButtonEl.classList.add('colab-df-spinner');\n",
              "      try {\n",
              "        const charts = await google.colab.kernel.invokeFunction(\n",
              "            'suggestCharts', [key], {});\n",
              "      } catch (error) {\n",
              "        console.error('Error during call to suggestCharts:', error);\n",
              "      }\n",
              "      quickchartButtonEl.classList.remove('colab-df-spinner');\n",
              "      quickchartButtonEl.classList.add('colab-df-quickchart-complete');\n",
              "    }\n",
              "    (() => {\n",
              "      let quickchartButtonEl =\n",
              "        document.querySelector('#df-153999fe-2fc2-4409-aafc-c408e86e1973 button');\n",
              "      quickchartButtonEl.style.display =\n",
              "        google.colab.kernel.accessAllowed ? 'block' : 'none';\n",
              "    })();\n",
              "  </script>\n",
              "</div>\n",
              "    </div>\n",
              "  </div>\n"
            ],
            "application/vnd.google.colaboratory.intrinsic+json": {
              "type": "dataframe",
              "variable_name": "df_val",
              "summary": "{\n  \"name\": \"df_val\",\n  \"rows\": 22683,\n  \"fields\": [\n    {\n      \"column\": \"id\",\n      \"properties\": {\n        \"dtype\": \"number\",\n        \"std\": 6548,\n        \"min\": 181467,\n        \"max\": 204149,\n        \"num_unique_values\": 22683,\n        \"samples\": [\n          183528,\n          198071,\n          184234\n        ],\n        \"semantic_type\": \"\",\n        \"description\": \"\"\n      }\n    },\n    {\n      \"column\": \"text\",\n      \"properties\": {\n        \"dtype\": \"string\",\n        \"num_unique_values\": 22458,\n        \"samples\": [\n          \"\\u0421\\u0435\\u0433\\u043e\\u0434\\u043d\\u044f \\u0440\\u043e\\u0432\\u043d\\u043e \\u0433\\u043e\\u0434, \\u043a\\u0430\\u043a \\u043d\\u0435\\u0442 \\u043c\\u043e\\u0435\\u0433\\u043e \\u043c\\u0430\\u043b\\u044c\\u0447\\u0438\\u043a\\u0430, \\u043c\\u043d\\u0435 \\u0442\\u0435\\u0431\\u044f \\u043e\\u0447\\u0435\\u043d\\u044c \\u043d\\u0435 \\u0445\\u0432\\u0430\\u0442\\u0430\\u0435\\u0442( http://t.co/qdA8u4sm4I\",\n          \"\\u043f\\u043e\\u0435\\u043b\\u0438 \\u0441   \\u0440\\u043e\\u043b\\u043b\\u043e\\u0432. \\u0418\\u0434\\u0435\\u043c \\u0434\\u043e\\u0432\\u043e\\u043b\\u044c\\u043d\\u044b\\u0435 \\u043a\\u0430\\u043a \\u043d\\u0435 \\u0437\\u043d\\u0430\\u044e \\u043a\\u0442\\u043e :)\",\n          \"@natashakondr \\u0410\\u0445\\u0430\\u0445\\u0430)) \\u043c\\u0435\\u043d\\u044f \\u0441\\u0435\\u0439\\u0447\\u0430\\u0441 \\u0438\\u043d\\u0442\\u0435\\u0440\\u0435\\u0441\\u0443\\u0435\\u0442 \\u0434\\u0440\\u0443\\u0433\\u043e\\u0435)\"\n        ],\n        \"semantic_type\": \"\",\n        \"description\": \"\"\n      }\n    },\n    {\n      \"column\": \"class\",\n      \"properties\": {\n        \"dtype\": \"number\",\n        \"std\": 0,\n        \"min\": 0,\n        \"max\": 1,\n        \"num_unique_values\": 2,\n        \"samples\": [\n          0,\n          1\n        ],\n        \"semantic_type\": \"\",\n        \"description\": \"\"\n      }\n    }\n  ]\n}"
            }
          },
          "metadata": {},
          "execution_count": 159
        }
      ]
    },
    {
      "cell_type": "code",
      "source": [
        "df_train['class'].value_counts()"
      ],
      "metadata": {
        "colab": {
          "base_uri": "https://localhost:8080/"
        },
        "id": "r-BF8C79otwR",
        "outputId": "4f93e69f-ae01-4d6d-df62-750eed2c4cd9"
      },
      "execution_count": null,
      "outputs": [
        {
          "output_type": "execute_result",
          "data": {
            "text/plain": [
              "class\n",
              "1    92063\n",
              "0    89404\n",
              "Name: count, dtype: int64"
            ]
          },
          "metadata": {},
          "execution_count": 54
        }
      ]
    },
    {
      "cell_type": "markdown",
      "source": [
        "## Clean data"
      ],
      "metadata": {
        "id": "FsYk6KYb9xGW"
      }
    },
    {
      "cell_type": "code",
      "source": [
        "def MyRepl(txt):\n",
        "    txt = re.sub(\"rt @\\w*: \", \"\", txt)\n",
        "    txt = re.sub(\"@\\w* \", \"\", txt)\n",
        "    txt = re.sub(\"\\\"|#\\w*\", \"\", txt)\n",
        "    return txt"
      ],
      "metadata": {
        "id": "Uf_5nvrk8yJG"
      },
      "execution_count": null,
      "outputs": []
    },
    {
      "cell_type": "code",
      "source": [
        "cln = CleanText('text', 'russian', MyRepl)"
      ],
      "metadata": {
        "id": "lw-L0ET6yUX-"
      },
      "execution_count": null,
      "outputs": []
    },
    {
      "cell_type": "code",
      "source": [
        "df_train['text'] = cln.transform(df_train)\n",
        "df_test['text'] = cln.transform(df_test)\n",
        "df_val['text'] = cln.transform(df_val)"
      ],
      "metadata": {
        "colab": {
          "base_uri": "https://localhost:8080/"
        },
        "id": "ApwYelrCzRLx",
        "outputId": "a4e128fe-d505-4ed9-8d72-802872349109"
      },
      "execution_count": null,
      "outputs": [
        {
          "output_type": "stream",
          "name": "stderr",
          "text": [
            "  0%|          | 0/181467 [00:00<?, ?it/s]<ipython-input-4-fae772ec7b1c>:96: FutureWarning: Possible nested set at position 39\n",
            "  text = re.sub(\"[0-9]|[-—.,:;_%©«»?*!@#№$^•·&()]|[+=]|[[]|[]]|[/]\", '', text)\n",
            "100%|██████████| 181467/181467 [04:57<00:00, 610.09it/s]\n",
            "100%|██████████| 22684/22684 [00:36<00:00, 617.69it/s]\n",
            "100%|██████████| 22683/22683 [00:38<00:00, 589.32it/s]\n"
          ]
        }
      ]
    },
    {
      "cell_type": "code",
      "source": [
        "df_train.head()"
      ],
      "metadata": {
        "colab": {
          "base_uri": "https://localhost:8080/",
          "height": 226
        },
        "id": "gowVRPFd2qtb",
        "outputId": "3856c1c7-c3c5-4d9f-e93f-44dbbefd25dc"
      },
      "execution_count": null,
      "outputs": [
        {
          "output_type": "execute_result",
          "data": {
            "text/plain": [
              "   id                                           text  class\n",
              "0   0                  уезжаааааааать хотеть уезжать      0\n",
              "1   1  ребята девчата кино это любовь сегодня завтра      1\n",
              "2   2                    ненавидеть пробка ретвит rt      0\n",
              "3   3       хотеться котлета покиевск запретный плод      1\n",
              "4   4                  босапоп есбосой бояться мороз      1"
            ],
            "text/html": [
              "\n",
              "  <div id=\"df-18c948ee-5efe-4877-9514-71db1b305176\" class=\"colab-df-container\">\n",
              "    <div>\n",
              "<style scoped>\n",
              "    .dataframe tbody tr th:only-of-type {\n",
              "        vertical-align: middle;\n",
              "    }\n",
              "\n",
              "    .dataframe tbody tr th {\n",
              "        vertical-align: top;\n",
              "    }\n",
              "\n",
              "    .dataframe thead th {\n",
              "        text-align: right;\n",
              "    }\n",
              "</style>\n",
              "<table border=\"1\" class=\"dataframe\">\n",
              "  <thead>\n",
              "    <tr style=\"text-align: right;\">\n",
              "      <th></th>\n",
              "      <th>id</th>\n",
              "      <th>text</th>\n",
              "      <th>class</th>\n",
              "    </tr>\n",
              "  </thead>\n",
              "  <tbody>\n",
              "    <tr>\n",
              "      <th>0</th>\n",
              "      <td>0</td>\n",
              "      <td>уезжаааааааать хотеть уезжать</td>\n",
              "      <td>0</td>\n",
              "    </tr>\n",
              "    <tr>\n",
              "      <th>1</th>\n",
              "      <td>1</td>\n",
              "      <td>ребята девчата кино это любовь сегодня завтра</td>\n",
              "      <td>1</td>\n",
              "    </tr>\n",
              "    <tr>\n",
              "      <th>2</th>\n",
              "      <td>2</td>\n",
              "      <td>ненавидеть пробка ретвит rt</td>\n",
              "      <td>0</td>\n",
              "    </tr>\n",
              "    <tr>\n",
              "      <th>3</th>\n",
              "      <td>3</td>\n",
              "      <td>хотеться котлета покиевск запретный плод</td>\n",
              "      <td>1</td>\n",
              "    </tr>\n",
              "    <tr>\n",
              "      <th>4</th>\n",
              "      <td>4</td>\n",
              "      <td>босапоп есбосой бояться мороз</td>\n",
              "      <td>1</td>\n",
              "    </tr>\n",
              "  </tbody>\n",
              "</table>\n",
              "</div>\n",
              "    <div class=\"colab-df-buttons\">\n",
              "\n",
              "  <div class=\"colab-df-container\">\n",
              "    <button class=\"colab-df-convert\" onclick=\"convertToInteractive('df-18c948ee-5efe-4877-9514-71db1b305176')\"\n",
              "            title=\"Convert this dataframe to an interactive table.\"\n",
              "            style=\"display:none;\">\n",
              "\n",
              "  <svg xmlns=\"http://www.w3.org/2000/svg\" height=\"24px\" viewBox=\"0 -960 960 960\">\n",
              "    <path d=\"M120-120v-720h720v720H120Zm60-500h600v-160H180v160Zm220 220h160v-160H400v160Zm0 220h160v-160H400v160ZM180-400h160v-160H180v160Zm440 0h160v-160H620v160ZM180-180h160v-160H180v160Zm440 0h160v-160H620v160Z\"/>\n",
              "  </svg>\n",
              "    </button>\n",
              "\n",
              "  <style>\n",
              "    .colab-df-container {\n",
              "      display:flex;\n",
              "      gap: 12px;\n",
              "    }\n",
              "\n",
              "    .colab-df-convert {\n",
              "      background-color: #E8F0FE;\n",
              "      border: none;\n",
              "      border-radius: 50%;\n",
              "      cursor: pointer;\n",
              "      display: none;\n",
              "      fill: #1967D2;\n",
              "      height: 32px;\n",
              "      padding: 0 0 0 0;\n",
              "      width: 32px;\n",
              "    }\n",
              "\n",
              "    .colab-df-convert:hover {\n",
              "      background-color: #E2EBFA;\n",
              "      box-shadow: 0px 1px 2px rgba(60, 64, 67, 0.3), 0px 1px 3px 1px rgba(60, 64, 67, 0.15);\n",
              "      fill: #174EA6;\n",
              "    }\n",
              "\n",
              "    .colab-df-buttons div {\n",
              "      margin-bottom: 4px;\n",
              "    }\n",
              "\n",
              "    [theme=dark] .colab-df-convert {\n",
              "      background-color: #3B4455;\n",
              "      fill: #D2E3FC;\n",
              "    }\n",
              "\n",
              "    [theme=dark] .colab-df-convert:hover {\n",
              "      background-color: #434B5C;\n",
              "      box-shadow: 0px 1px 3px 1px rgba(0, 0, 0, 0.15);\n",
              "      filter: drop-shadow(0px 1px 2px rgba(0, 0, 0, 0.3));\n",
              "      fill: #FFFFFF;\n",
              "    }\n",
              "  </style>\n",
              "\n",
              "    <script>\n",
              "      const buttonEl =\n",
              "        document.querySelector('#df-18c948ee-5efe-4877-9514-71db1b305176 button.colab-df-convert');\n",
              "      buttonEl.style.display =\n",
              "        google.colab.kernel.accessAllowed ? 'block' : 'none';\n",
              "\n",
              "      async function convertToInteractive(key) {\n",
              "        const element = document.querySelector('#df-18c948ee-5efe-4877-9514-71db1b305176');\n",
              "        const dataTable =\n",
              "          await google.colab.kernel.invokeFunction('convertToInteractive',\n",
              "                                                    [key], {});\n",
              "        if (!dataTable) return;\n",
              "\n",
              "        const docLinkHtml = 'Like what you see? Visit the ' +\n",
              "          '<a target=\"_blank\" href=https://colab.research.google.com/notebooks/data_table.ipynb>data table notebook</a>'\n",
              "          + ' to learn more about interactive tables.';\n",
              "        element.innerHTML = '';\n",
              "        dataTable['output_type'] = 'display_data';\n",
              "        await google.colab.output.renderOutput(dataTable, element);\n",
              "        const docLink = document.createElement('div');\n",
              "        docLink.innerHTML = docLinkHtml;\n",
              "        element.appendChild(docLink);\n",
              "      }\n",
              "    </script>\n",
              "  </div>\n",
              "\n",
              "\n",
              "<div id=\"df-5b97584c-a952-45f1-a579-0f263e0af48e\">\n",
              "  <button class=\"colab-df-quickchart\" onclick=\"quickchart('df-5b97584c-a952-45f1-a579-0f263e0af48e')\"\n",
              "            title=\"Suggest charts\"\n",
              "            style=\"display:none;\">\n",
              "\n",
              "<svg xmlns=\"http://www.w3.org/2000/svg\" height=\"24px\"viewBox=\"0 0 24 24\"\n",
              "     width=\"24px\">\n",
              "    <g>\n",
              "        <path d=\"M19 3H5c-1.1 0-2 .9-2 2v14c0 1.1.9 2 2 2h14c1.1 0 2-.9 2-2V5c0-1.1-.9-2-2-2zM9 17H7v-7h2v7zm4 0h-2V7h2v10zm4 0h-2v-4h2v4z\"/>\n",
              "    </g>\n",
              "</svg>\n",
              "  </button>\n",
              "\n",
              "<style>\n",
              "  .colab-df-quickchart {\n",
              "      --bg-color: #E8F0FE;\n",
              "      --fill-color: #1967D2;\n",
              "      --hover-bg-color: #E2EBFA;\n",
              "      --hover-fill-color: #174EA6;\n",
              "      --disabled-fill-color: #AAA;\n",
              "      --disabled-bg-color: #DDD;\n",
              "  }\n",
              "\n",
              "  [theme=dark] .colab-df-quickchart {\n",
              "      --bg-color: #3B4455;\n",
              "      --fill-color: #D2E3FC;\n",
              "      --hover-bg-color: #434B5C;\n",
              "      --hover-fill-color: #FFFFFF;\n",
              "      --disabled-bg-color: #3B4455;\n",
              "      --disabled-fill-color: #666;\n",
              "  }\n",
              "\n",
              "  .colab-df-quickchart {\n",
              "    background-color: var(--bg-color);\n",
              "    border: none;\n",
              "    border-radius: 50%;\n",
              "    cursor: pointer;\n",
              "    display: none;\n",
              "    fill: var(--fill-color);\n",
              "    height: 32px;\n",
              "    padding: 0;\n",
              "    width: 32px;\n",
              "  }\n",
              "\n",
              "  .colab-df-quickchart:hover {\n",
              "    background-color: var(--hover-bg-color);\n",
              "    box-shadow: 0 1px 2px rgba(60, 64, 67, 0.3), 0 1px 3px 1px rgba(60, 64, 67, 0.15);\n",
              "    fill: var(--button-hover-fill-color);\n",
              "  }\n",
              "\n",
              "  .colab-df-quickchart-complete:disabled,\n",
              "  .colab-df-quickchart-complete:disabled:hover {\n",
              "    background-color: var(--disabled-bg-color);\n",
              "    fill: var(--disabled-fill-color);\n",
              "    box-shadow: none;\n",
              "  }\n",
              "\n",
              "  .colab-df-spinner {\n",
              "    border: 2px solid var(--fill-color);\n",
              "    border-color: transparent;\n",
              "    border-bottom-color: var(--fill-color);\n",
              "    animation:\n",
              "      spin 1s steps(1) infinite;\n",
              "  }\n",
              "\n",
              "  @keyframes spin {\n",
              "    0% {\n",
              "      border-color: transparent;\n",
              "      border-bottom-color: var(--fill-color);\n",
              "      border-left-color: var(--fill-color);\n",
              "    }\n",
              "    20% {\n",
              "      border-color: transparent;\n",
              "      border-left-color: var(--fill-color);\n",
              "      border-top-color: var(--fill-color);\n",
              "    }\n",
              "    30% {\n",
              "      border-color: transparent;\n",
              "      border-left-color: var(--fill-color);\n",
              "      border-top-color: var(--fill-color);\n",
              "      border-right-color: var(--fill-color);\n",
              "    }\n",
              "    40% {\n",
              "      border-color: transparent;\n",
              "      border-right-color: var(--fill-color);\n",
              "      border-top-color: var(--fill-color);\n",
              "    }\n",
              "    60% {\n",
              "      border-color: transparent;\n",
              "      border-right-color: var(--fill-color);\n",
              "    }\n",
              "    80% {\n",
              "      border-color: transparent;\n",
              "      border-right-color: var(--fill-color);\n",
              "      border-bottom-color: var(--fill-color);\n",
              "    }\n",
              "    90% {\n",
              "      border-color: transparent;\n",
              "      border-bottom-color: var(--fill-color);\n",
              "    }\n",
              "  }\n",
              "</style>\n",
              "\n",
              "  <script>\n",
              "    async function quickchart(key) {\n",
              "      const quickchartButtonEl =\n",
              "        document.querySelector('#' + key + ' button');\n",
              "      quickchartButtonEl.disabled = true;  // To prevent multiple clicks.\n",
              "      quickchartButtonEl.classList.add('colab-df-spinner');\n",
              "      try {\n",
              "        const charts = await google.colab.kernel.invokeFunction(\n",
              "            'suggestCharts', [key], {});\n",
              "      } catch (error) {\n",
              "        console.error('Error during call to suggestCharts:', error);\n",
              "      }\n",
              "      quickchartButtonEl.classList.remove('colab-df-spinner');\n",
              "      quickchartButtonEl.classList.add('colab-df-quickchart-complete');\n",
              "    }\n",
              "    (() => {\n",
              "      let quickchartButtonEl =\n",
              "        document.querySelector('#df-5b97584c-a952-45f1-a579-0f263e0af48e button');\n",
              "      quickchartButtonEl.style.display =\n",
              "        google.colab.kernel.accessAllowed ? 'block' : 'none';\n",
              "    })();\n",
              "  </script>\n",
              "</div>\n",
              "    </div>\n",
              "  </div>\n"
            ],
            "application/vnd.google.colaboratory.intrinsic+json": {
              "type": "dataframe",
              "variable_name": "df_train"
            }
          },
          "metadata": {},
          "execution_count": 57
        }
      ]
    },
    {
      "cell_type": "code",
      "source": [
        "df_test.head()"
      ],
      "metadata": {
        "colab": {
          "base_uri": "https://localhost:8080/",
          "height": 226
        },
        "id": "EJKpa1X_Ebt_",
        "outputId": "5a434adb-eb3a-4d47-97db-d5af2901e4fe"
      },
      "execution_count": null,
      "outputs": [
        {
          "output_type": "execute_result",
          "data": {
            "text/plain": [
              "       id                                               text\n",
              "0  204150          тектоника рельефсамый ужасный мир мучение\n",
              "1  204151       ходить запускать шар желание получиться хрен\n",
              "2  204152        хотеть лето ради направить ноготь яркий лак\n",
              "3  204153  блин шипперила флораблум музатекно стелла помн...\n",
              "4  204154  блинкаждый воскресение утром выходить сегодня ..."
            ],
            "text/html": [
              "\n",
              "  <div id=\"df-debbe8c8-6123-4205-8878-68fb6db6eea7\" class=\"colab-df-container\">\n",
              "    <div>\n",
              "<style scoped>\n",
              "    .dataframe tbody tr th:only-of-type {\n",
              "        vertical-align: middle;\n",
              "    }\n",
              "\n",
              "    .dataframe tbody tr th {\n",
              "        vertical-align: top;\n",
              "    }\n",
              "\n",
              "    .dataframe thead th {\n",
              "        text-align: right;\n",
              "    }\n",
              "</style>\n",
              "<table border=\"1\" class=\"dataframe\">\n",
              "  <thead>\n",
              "    <tr style=\"text-align: right;\">\n",
              "      <th></th>\n",
              "      <th>id</th>\n",
              "      <th>text</th>\n",
              "    </tr>\n",
              "  </thead>\n",
              "  <tbody>\n",
              "    <tr>\n",
              "      <th>0</th>\n",
              "      <td>204150</td>\n",
              "      <td>тектоника рельефсамый ужасный мир мучение</td>\n",
              "    </tr>\n",
              "    <tr>\n",
              "      <th>1</th>\n",
              "      <td>204151</td>\n",
              "      <td>ходить запускать шар желание получиться хрен</td>\n",
              "    </tr>\n",
              "    <tr>\n",
              "      <th>2</th>\n",
              "      <td>204152</td>\n",
              "      <td>хотеть лето ради направить ноготь яркий лак</td>\n",
              "    </tr>\n",
              "    <tr>\n",
              "      <th>3</th>\n",
              "      <td>204153</td>\n",
              "      <td>блин шипперила флораблум музатекно стелла помн...</td>\n",
              "    </tr>\n",
              "    <tr>\n",
              "      <th>4</th>\n",
              "      <td>204154</td>\n",
              "      <td>блинкаждый воскресение утром выходить сегодня ...</td>\n",
              "    </tr>\n",
              "  </tbody>\n",
              "</table>\n",
              "</div>\n",
              "    <div class=\"colab-df-buttons\">\n",
              "\n",
              "  <div class=\"colab-df-container\">\n",
              "    <button class=\"colab-df-convert\" onclick=\"convertToInteractive('df-debbe8c8-6123-4205-8878-68fb6db6eea7')\"\n",
              "            title=\"Convert this dataframe to an interactive table.\"\n",
              "            style=\"display:none;\">\n",
              "\n",
              "  <svg xmlns=\"http://www.w3.org/2000/svg\" height=\"24px\" viewBox=\"0 -960 960 960\">\n",
              "    <path d=\"M120-120v-720h720v720H120Zm60-500h600v-160H180v160Zm220 220h160v-160H400v160Zm0 220h160v-160H400v160ZM180-400h160v-160H180v160Zm440 0h160v-160H620v160ZM180-180h160v-160H180v160Zm440 0h160v-160H620v160Z\"/>\n",
              "  </svg>\n",
              "    </button>\n",
              "\n",
              "  <style>\n",
              "    .colab-df-container {\n",
              "      display:flex;\n",
              "      gap: 12px;\n",
              "    }\n",
              "\n",
              "    .colab-df-convert {\n",
              "      background-color: #E8F0FE;\n",
              "      border: none;\n",
              "      border-radius: 50%;\n",
              "      cursor: pointer;\n",
              "      display: none;\n",
              "      fill: #1967D2;\n",
              "      height: 32px;\n",
              "      padding: 0 0 0 0;\n",
              "      width: 32px;\n",
              "    }\n",
              "\n",
              "    .colab-df-convert:hover {\n",
              "      background-color: #E2EBFA;\n",
              "      box-shadow: 0px 1px 2px rgba(60, 64, 67, 0.3), 0px 1px 3px 1px rgba(60, 64, 67, 0.15);\n",
              "      fill: #174EA6;\n",
              "    }\n",
              "\n",
              "    .colab-df-buttons div {\n",
              "      margin-bottom: 4px;\n",
              "    }\n",
              "\n",
              "    [theme=dark] .colab-df-convert {\n",
              "      background-color: #3B4455;\n",
              "      fill: #D2E3FC;\n",
              "    }\n",
              "\n",
              "    [theme=dark] .colab-df-convert:hover {\n",
              "      background-color: #434B5C;\n",
              "      box-shadow: 0px 1px 3px 1px rgba(0, 0, 0, 0.15);\n",
              "      filter: drop-shadow(0px 1px 2px rgba(0, 0, 0, 0.3));\n",
              "      fill: #FFFFFF;\n",
              "    }\n",
              "  </style>\n",
              "\n",
              "    <script>\n",
              "      const buttonEl =\n",
              "        document.querySelector('#df-debbe8c8-6123-4205-8878-68fb6db6eea7 button.colab-df-convert');\n",
              "      buttonEl.style.display =\n",
              "        google.colab.kernel.accessAllowed ? 'block' : 'none';\n",
              "\n",
              "      async function convertToInteractive(key) {\n",
              "        const element = document.querySelector('#df-debbe8c8-6123-4205-8878-68fb6db6eea7');\n",
              "        const dataTable =\n",
              "          await google.colab.kernel.invokeFunction('convertToInteractive',\n",
              "                                                    [key], {});\n",
              "        if (!dataTable) return;\n",
              "\n",
              "        const docLinkHtml = 'Like what you see? Visit the ' +\n",
              "          '<a target=\"_blank\" href=https://colab.research.google.com/notebooks/data_table.ipynb>data table notebook</a>'\n",
              "          + ' to learn more about interactive tables.';\n",
              "        element.innerHTML = '';\n",
              "        dataTable['output_type'] = 'display_data';\n",
              "        await google.colab.output.renderOutput(dataTable, element);\n",
              "        const docLink = document.createElement('div');\n",
              "        docLink.innerHTML = docLinkHtml;\n",
              "        element.appendChild(docLink);\n",
              "      }\n",
              "    </script>\n",
              "  </div>\n",
              "\n",
              "\n",
              "<div id=\"df-b64bfdd4-3587-43e5-895f-48b96007322d\">\n",
              "  <button class=\"colab-df-quickchart\" onclick=\"quickchart('df-b64bfdd4-3587-43e5-895f-48b96007322d')\"\n",
              "            title=\"Suggest charts\"\n",
              "            style=\"display:none;\">\n",
              "\n",
              "<svg xmlns=\"http://www.w3.org/2000/svg\" height=\"24px\"viewBox=\"0 0 24 24\"\n",
              "     width=\"24px\">\n",
              "    <g>\n",
              "        <path d=\"M19 3H5c-1.1 0-2 .9-2 2v14c0 1.1.9 2 2 2h14c1.1 0 2-.9 2-2V5c0-1.1-.9-2-2-2zM9 17H7v-7h2v7zm4 0h-2V7h2v10zm4 0h-2v-4h2v4z\"/>\n",
              "    </g>\n",
              "</svg>\n",
              "  </button>\n",
              "\n",
              "<style>\n",
              "  .colab-df-quickchart {\n",
              "      --bg-color: #E8F0FE;\n",
              "      --fill-color: #1967D2;\n",
              "      --hover-bg-color: #E2EBFA;\n",
              "      --hover-fill-color: #174EA6;\n",
              "      --disabled-fill-color: #AAA;\n",
              "      --disabled-bg-color: #DDD;\n",
              "  }\n",
              "\n",
              "  [theme=dark] .colab-df-quickchart {\n",
              "      --bg-color: #3B4455;\n",
              "      --fill-color: #D2E3FC;\n",
              "      --hover-bg-color: #434B5C;\n",
              "      --hover-fill-color: #FFFFFF;\n",
              "      --disabled-bg-color: #3B4455;\n",
              "      --disabled-fill-color: #666;\n",
              "  }\n",
              "\n",
              "  .colab-df-quickchart {\n",
              "    background-color: var(--bg-color);\n",
              "    border: none;\n",
              "    border-radius: 50%;\n",
              "    cursor: pointer;\n",
              "    display: none;\n",
              "    fill: var(--fill-color);\n",
              "    height: 32px;\n",
              "    padding: 0;\n",
              "    width: 32px;\n",
              "  }\n",
              "\n",
              "  .colab-df-quickchart:hover {\n",
              "    background-color: var(--hover-bg-color);\n",
              "    box-shadow: 0 1px 2px rgba(60, 64, 67, 0.3), 0 1px 3px 1px rgba(60, 64, 67, 0.15);\n",
              "    fill: var(--button-hover-fill-color);\n",
              "  }\n",
              "\n",
              "  .colab-df-quickchart-complete:disabled,\n",
              "  .colab-df-quickchart-complete:disabled:hover {\n",
              "    background-color: var(--disabled-bg-color);\n",
              "    fill: var(--disabled-fill-color);\n",
              "    box-shadow: none;\n",
              "  }\n",
              "\n",
              "  .colab-df-spinner {\n",
              "    border: 2px solid var(--fill-color);\n",
              "    border-color: transparent;\n",
              "    border-bottom-color: var(--fill-color);\n",
              "    animation:\n",
              "      spin 1s steps(1) infinite;\n",
              "  }\n",
              "\n",
              "  @keyframes spin {\n",
              "    0% {\n",
              "      border-color: transparent;\n",
              "      border-bottom-color: var(--fill-color);\n",
              "      border-left-color: var(--fill-color);\n",
              "    }\n",
              "    20% {\n",
              "      border-color: transparent;\n",
              "      border-left-color: var(--fill-color);\n",
              "      border-top-color: var(--fill-color);\n",
              "    }\n",
              "    30% {\n",
              "      border-color: transparent;\n",
              "      border-left-color: var(--fill-color);\n",
              "      border-top-color: var(--fill-color);\n",
              "      border-right-color: var(--fill-color);\n",
              "    }\n",
              "    40% {\n",
              "      border-color: transparent;\n",
              "      border-right-color: var(--fill-color);\n",
              "      border-top-color: var(--fill-color);\n",
              "    }\n",
              "    60% {\n",
              "      border-color: transparent;\n",
              "      border-right-color: var(--fill-color);\n",
              "    }\n",
              "    80% {\n",
              "      border-color: transparent;\n",
              "      border-right-color: var(--fill-color);\n",
              "      border-bottom-color: var(--fill-color);\n",
              "    }\n",
              "    90% {\n",
              "      border-color: transparent;\n",
              "      border-bottom-color: var(--fill-color);\n",
              "    }\n",
              "  }\n",
              "</style>\n",
              "\n",
              "  <script>\n",
              "    async function quickchart(key) {\n",
              "      const quickchartButtonEl =\n",
              "        document.querySelector('#' + key + ' button');\n",
              "      quickchartButtonEl.disabled = true;  // To prevent multiple clicks.\n",
              "      quickchartButtonEl.classList.add('colab-df-spinner');\n",
              "      try {\n",
              "        const charts = await google.colab.kernel.invokeFunction(\n",
              "            'suggestCharts', [key], {});\n",
              "      } catch (error) {\n",
              "        console.error('Error during call to suggestCharts:', error);\n",
              "      }\n",
              "      quickchartButtonEl.classList.remove('colab-df-spinner');\n",
              "      quickchartButtonEl.classList.add('colab-df-quickchart-complete');\n",
              "    }\n",
              "    (() => {\n",
              "      let quickchartButtonEl =\n",
              "        document.querySelector('#df-b64bfdd4-3587-43e5-895f-48b96007322d button');\n",
              "      quickchartButtonEl.style.display =\n",
              "        google.colab.kernel.accessAllowed ? 'block' : 'none';\n",
              "    })();\n",
              "  </script>\n",
              "</div>\n",
              "    </div>\n",
              "  </div>\n"
            ],
            "application/vnd.google.colaboratory.intrinsic+json": {
              "type": "dataframe",
              "variable_name": "df_test",
              "summary": "{\n  \"name\": \"df_test\",\n  \"rows\": 22684,\n  \"fields\": [\n    {\n      \"column\": \"id\",\n      \"properties\": {\n        \"dtype\": \"number\",\n        \"std\": 6548,\n        \"min\": 204150,\n        \"max\": 226833,\n        \"num_unique_values\": 22684,\n        \"samples\": [\n          220238,\n          213835,\n          213086\n        ],\n        \"semantic_type\": \"\",\n        \"description\": \"\"\n      }\n    },\n    {\n      \"column\": \"text\",\n      \"properties\": {\n        \"dtype\": \"string\",\n        \"num_unique_values\": 22279,\n        \"samples\": [\n          \"\\u0447\\u0442\\u043e\\u0442\\u044c \\u044d\\u0442\\u043e \\u043d\\u0435\\u0434\\u0435\\u043b\\u044f \\u0432\\u043e\\u043e\\u0431\\u0449\\u0435 \\u0437\\u0430\\u043b\\u0430\\u0434\\u0438\\u0442\\u044c\\u0441\\u044f \\u044d\\u043b\\u0435\\u043a\\u0442\\u0440\\u043e\\u043d\\u043d\\u044b\\u0439\\u0430\\u0434\\u0440\\u0435\\u0441\\u0441\",\n          \"\\u0442\\u0435\\u043b\\u0435\\u0444\\u043e\\u043d \\u043f\\u043e\\u0441\\u0442\\u043e\\u044f\\u043d\\u043d\\u043e \\u043f\\u043e\\u043a\\u0430\\u0437\\u044b\\u0432\\u0430\\u0442\\u044c \\u044f\\u043a\\u043e\\u0431\\u044b \\u043f\\u043e\\u0434\\u043a\\u043b\\u044e\\u0447\\u0438\\u0442\\u044c \\u0433\\u0430\\u0440\\u043d\\u0438\\u0442\\u0443\\u0440\",\n          \"\\u0445\\u043e\\u0434\\u0438\\u0442\\u044c \\u043a\\u0430\\u0442\\u043e\\u043a \\u0434\\u0430\\u0432\\u043d\\u043e \\u0432\\u0435\\u0440\\u043d\\u0443\\u0442\\u044c\\u0441\\u044f \\u043c\\u043e\\u0439 \\u043f\\u043e\\u043f\\u044b\\u0442\\u043a\\u0430 \\u043d\\u0430\\u0443\\u0447\\u0438\\u0442\\u044c\\u0441\\u044f \\u043a\\u0430\\u0442\\u0430\\u0442\\u044c\\u0441\\u044f \\u043f\\u0440\\u0438\\u0432\\u0435\\u0441\\u0442\\u0438 \\u0442\\u043e\\u0442 \\u043f\\u043e\\u043b\\u0443\\u0447\\u0438\\u0442\\u044c \\u0441\\u0438\\u043b\\u044c\\u043d\\u044b\\u0439 \\u0443\\u0448\\u0438\\u0431\\u0438\\u0442\\u044c\"\n        ],\n        \"semantic_type\": \"\",\n        \"description\": \"\"\n      }\n    }\n  ]\n}"
            }
          },
          "metadata": {},
          "execution_count": 58
        }
      ]
    },
    {
      "cell_type": "code",
      "source": [
        "df_val.head()"
      ],
      "metadata": {
        "colab": {
          "base_uri": "https://localhost:8080/",
          "height": 226
        },
        "id": "Qp3SW1UXFFZF",
        "outputId": "21de3445-50a9-4996-b75c-dc8680a50c52"
      },
      "execution_count": null,
      "outputs": [
        {
          "output_type": "execute_result",
          "data": {
            "text/plain": [
              "       id                                               text  class\n",
              "0  181467              максимальный репост электронныйадресс      1\n",
              "1  181468  зп ежегодно индексировать индекс инфляция тари...      0\n",
              "2  181469                                              нехуй      0\n",
              "3  181470  нога ахахи когдаахах честн помнить ты завтра ш...      0\n",
              "4  181471                            хотеть сделать получать      0"
            ],
            "text/html": [
              "\n",
              "  <div id=\"df-7269357b-e6ed-4a48-823c-90ee56aea910\" class=\"colab-df-container\">\n",
              "    <div>\n",
              "<style scoped>\n",
              "    .dataframe tbody tr th:only-of-type {\n",
              "        vertical-align: middle;\n",
              "    }\n",
              "\n",
              "    .dataframe tbody tr th {\n",
              "        vertical-align: top;\n",
              "    }\n",
              "\n",
              "    .dataframe thead th {\n",
              "        text-align: right;\n",
              "    }\n",
              "</style>\n",
              "<table border=\"1\" class=\"dataframe\">\n",
              "  <thead>\n",
              "    <tr style=\"text-align: right;\">\n",
              "      <th></th>\n",
              "      <th>id</th>\n",
              "      <th>text</th>\n",
              "      <th>class</th>\n",
              "    </tr>\n",
              "  </thead>\n",
              "  <tbody>\n",
              "    <tr>\n",
              "      <th>0</th>\n",
              "      <td>181467</td>\n",
              "      <td>максимальный репост электронныйадресс</td>\n",
              "      <td>1</td>\n",
              "    </tr>\n",
              "    <tr>\n",
              "      <th>1</th>\n",
              "      <td>181468</td>\n",
              "      <td>зп ежегодно индексировать индекс инфляция тари...</td>\n",
              "      <td>0</td>\n",
              "    </tr>\n",
              "    <tr>\n",
              "      <th>2</th>\n",
              "      <td>181469</td>\n",
              "      <td>нехуй</td>\n",
              "      <td>0</td>\n",
              "    </tr>\n",
              "    <tr>\n",
              "      <th>3</th>\n",
              "      <td>181470</td>\n",
              "      <td>нога ахахи когдаахах честн помнить ты завтра ш...</td>\n",
              "      <td>0</td>\n",
              "    </tr>\n",
              "    <tr>\n",
              "      <th>4</th>\n",
              "      <td>181471</td>\n",
              "      <td>хотеть сделать получать</td>\n",
              "      <td>0</td>\n",
              "    </tr>\n",
              "  </tbody>\n",
              "</table>\n",
              "</div>\n",
              "    <div class=\"colab-df-buttons\">\n",
              "\n",
              "  <div class=\"colab-df-container\">\n",
              "    <button class=\"colab-df-convert\" onclick=\"convertToInteractive('df-7269357b-e6ed-4a48-823c-90ee56aea910')\"\n",
              "            title=\"Convert this dataframe to an interactive table.\"\n",
              "            style=\"display:none;\">\n",
              "\n",
              "  <svg xmlns=\"http://www.w3.org/2000/svg\" height=\"24px\" viewBox=\"0 -960 960 960\">\n",
              "    <path d=\"M120-120v-720h720v720H120Zm60-500h600v-160H180v160Zm220 220h160v-160H400v160Zm0 220h160v-160H400v160ZM180-400h160v-160H180v160Zm440 0h160v-160H620v160ZM180-180h160v-160H180v160Zm440 0h160v-160H620v160Z\"/>\n",
              "  </svg>\n",
              "    </button>\n",
              "\n",
              "  <style>\n",
              "    .colab-df-container {\n",
              "      display:flex;\n",
              "      gap: 12px;\n",
              "    }\n",
              "\n",
              "    .colab-df-convert {\n",
              "      background-color: #E8F0FE;\n",
              "      border: none;\n",
              "      border-radius: 50%;\n",
              "      cursor: pointer;\n",
              "      display: none;\n",
              "      fill: #1967D2;\n",
              "      height: 32px;\n",
              "      padding: 0 0 0 0;\n",
              "      width: 32px;\n",
              "    }\n",
              "\n",
              "    .colab-df-convert:hover {\n",
              "      background-color: #E2EBFA;\n",
              "      box-shadow: 0px 1px 2px rgba(60, 64, 67, 0.3), 0px 1px 3px 1px rgba(60, 64, 67, 0.15);\n",
              "      fill: #174EA6;\n",
              "    }\n",
              "\n",
              "    .colab-df-buttons div {\n",
              "      margin-bottom: 4px;\n",
              "    }\n",
              "\n",
              "    [theme=dark] .colab-df-convert {\n",
              "      background-color: #3B4455;\n",
              "      fill: #D2E3FC;\n",
              "    }\n",
              "\n",
              "    [theme=dark] .colab-df-convert:hover {\n",
              "      background-color: #434B5C;\n",
              "      box-shadow: 0px 1px 3px 1px rgba(0, 0, 0, 0.15);\n",
              "      filter: drop-shadow(0px 1px 2px rgba(0, 0, 0, 0.3));\n",
              "      fill: #FFFFFF;\n",
              "    }\n",
              "  </style>\n",
              "\n",
              "    <script>\n",
              "      const buttonEl =\n",
              "        document.querySelector('#df-7269357b-e6ed-4a48-823c-90ee56aea910 button.colab-df-convert');\n",
              "      buttonEl.style.display =\n",
              "        google.colab.kernel.accessAllowed ? 'block' : 'none';\n",
              "\n",
              "      async function convertToInteractive(key) {\n",
              "        const element = document.querySelector('#df-7269357b-e6ed-4a48-823c-90ee56aea910');\n",
              "        const dataTable =\n",
              "          await google.colab.kernel.invokeFunction('convertToInteractive',\n",
              "                                                    [key], {});\n",
              "        if (!dataTable) return;\n",
              "\n",
              "        const docLinkHtml = 'Like what you see? Visit the ' +\n",
              "          '<a target=\"_blank\" href=https://colab.research.google.com/notebooks/data_table.ipynb>data table notebook</a>'\n",
              "          + ' to learn more about interactive tables.';\n",
              "        element.innerHTML = '';\n",
              "        dataTable['output_type'] = 'display_data';\n",
              "        await google.colab.output.renderOutput(dataTable, element);\n",
              "        const docLink = document.createElement('div');\n",
              "        docLink.innerHTML = docLinkHtml;\n",
              "        element.appendChild(docLink);\n",
              "      }\n",
              "    </script>\n",
              "  </div>\n",
              "\n",
              "\n",
              "<div id=\"df-166d4cbe-5308-4f4f-bcc5-8db30948f03d\">\n",
              "  <button class=\"colab-df-quickchart\" onclick=\"quickchart('df-166d4cbe-5308-4f4f-bcc5-8db30948f03d')\"\n",
              "            title=\"Suggest charts\"\n",
              "            style=\"display:none;\">\n",
              "\n",
              "<svg xmlns=\"http://www.w3.org/2000/svg\" height=\"24px\"viewBox=\"0 0 24 24\"\n",
              "     width=\"24px\">\n",
              "    <g>\n",
              "        <path d=\"M19 3H5c-1.1 0-2 .9-2 2v14c0 1.1.9 2 2 2h14c1.1 0 2-.9 2-2V5c0-1.1-.9-2-2-2zM9 17H7v-7h2v7zm4 0h-2V7h2v10zm4 0h-2v-4h2v4z\"/>\n",
              "    </g>\n",
              "</svg>\n",
              "  </button>\n",
              "\n",
              "<style>\n",
              "  .colab-df-quickchart {\n",
              "      --bg-color: #E8F0FE;\n",
              "      --fill-color: #1967D2;\n",
              "      --hover-bg-color: #E2EBFA;\n",
              "      --hover-fill-color: #174EA6;\n",
              "      --disabled-fill-color: #AAA;\n",
              "      --disabled-bg-color: #DDD;\n",
              "  }\n",
              "\n",
              "  [theme=dark] .colab-df-quickchart {\n",
              "      --bg-color: #3B4455;\n",
              "      --fill-color: #D2E3FC;\n",
              "      --hover-bg-color: #434B5C;\n",
              "      --hover-fill-color: #FFFFFF;\n",
              "      --disabled-bg-color: #3B4455;\n",
              "      --disabled-fill-color: #666;\n",
              "  }\n",
              "\n",
              "  .colab-df-quickchart {\n",
              "    background-color: var(--bg-color);\n",
              "    border: none;\n",
              "    border-radius: 50%;\n",
              "    cursor: pointer;\n",
              "    display: none;\n",
              "    fill: var(--fill-color);\n",
              "    height: 32px;\n",
              "    padding: 0;\n",
              "    width: 32px;\n",
              "  }\n",
              "\n",
              "  .colab-df-quickchart:hover {\n",
              "    background-color: var(--hover-bg-color);\n",
              "    box-shadow: 0 1px 2px rgba(60, 64, 67, 0.3), 0 1px 3px 1px rgba(60, 64, 67, 0.15);\n",
              "    fill: var(--button-hover-fill-color);\n",
              "  }\n",
              "\n",
              "  .colab-df-quickchart-complete:disabled,\n",
              "  .colab-df-quickchart-complete:disabled:hover {\n",
              "    background-color: var(--disabled-bg-color);\n",
              "    fill: var(--disabled-fill-color);\n",
              "    box-shadow: none;\n",
              "  }\n",
              "\n",
              "  .colab-df-spinner {\n",
              "    border: 2px solid var(--fill-color);\n",
              "    border-color: transparent;\n",
              "    border-bottom-color: var(--fill-color);\n",
              "    animation:\n",
              "      spin 1s steps(1) infinite;\n",
              "  }\n",
              "\n",
              "  @keyframes spin {\n",
              "    0% {\n",
              "      border-color: transparent;\n",
              "      border-bottom-color: var(--fill-color);\n",
              "      border-left-color: var(--fill-color);\n",
              "    }\n",
              "    20% {\n",
              "      border-color: transparent;\n",
              "      border-left-color: var(--fill-color);\n",
              "      border-top-color: var(--fill-color);\n",
              "    }\n",
              "    30% {\n",
              "      border-color: transparent;\n",
              "      border-left-color: var(--fill-color);\n",
              "      border-top-color: var(--fill-color);\n",
              "      border-right-color: var(--fill-color);\n",
              "    }\n",
              "    40% {\n",
              "      border-color: transparent;\n",
              "      border-right-color: var(--fill-color);\n",
              "      border-top-color: var(--fill-color);\n",
              "    }\n",
              "    60% {\n",
              "      border-color: transparent;\n",
              "      border-right-color: var(--fill-color);\n",
              "    }\n",
              "    80% {\n",
              "      border-color: transparent;\n",
              "      border-right-color: var(--fill-color);\n",
              "      border-bottom-color: var(--fill-color);\n",
              "    }\n",
              "    90% {\n",
              "      border-color: transparent;\n",
              "      border-bottom-color: var(--fill-color);\n",
              "    }\n",
              "  }\n",
              "</style>\n",
              "\n",
              "  <script>\n",
              "    async function quickchart(key) {\n",
              "      const quickchartButtonEl =\n",
              "        document.querySelector('#' + key + ' button');\n",
              "      quickchartButtonEl.disabled = true;  // To prevent multiple clicks.\n",
              "      quickchartButtonEl.classList.add('colab-df-spinner');\n",
              "      try {\n",
              "        const charts = await google.colab.kernel.invokeFunction(\n",
              "            'suggestCharts', [key], {});\n",
              "      } catch (error) {\n",
              "        console.error('Error during call to suggestCharts:', error);\n",
              "      }\n",
              "      quickchartButtonEl.classList.remove('colab-df-spinner');\n",
              "      quickchartButtonEl.classList.add('colab-df-quickchart-complete');\n",
              "    }\n",
              "    (() => {\n",
              "      let quickchartButtonEl =\n",
              "        document.querySelector('#df-166d4cbe-5308-4f4f-bcc5-8db30948f03d button');\n",
              "      quickchartButtonEl.style.display =\n",
              "        google.colab.kernel.accessAllowed ? 'block' : 'none';\n",
              "    })();\n",
              "  </script>\n",
              "</div>\n",
              "    </div>\n",
              "  </div>\n"
            ],
            "application/vnd.google.colaboratory.intrinsic+json": {
              "type": "dataframe",
              "variable_name": "df_val",
              "summary": "{\n  \"name\": \"df_val\",\n  \"rows\": 22683,\n  \"fields\": [\n    {\n      \"column\": \"id\",\n      \"properties\": {\n        \"dtype\": \"number\",\n        \"std\": 6548,\n        \"min\": 181467,\n        \"max\": 204149,\n        \"num_unique_values\": 22683,\n        \"samples\": [\n          183528,\n          198071,\n          184234\n        ],\n        \"semantic_type\": \"\",\n        \"description\": \"\"\n      }\n    },\n    {\n      \"column\": \"text\",\n      \"properties\": {\n        \"dtype\": \"string\",\n        \"num_unique_values\": 22266,\n        \"samples\": [\n          \"\\u0437\\u0430\\u0432\\u0442\\u0440\\u0430 \\u0433\\u043e\\u043d\\u043a\\u0430 \\u043a\\u043c \\u043a\\u043b\\u0430\\u0441\\u0441\\u0438\\u043a\\u0430 \\u0431\\u043e\\u043b\\u0435\\u0442\\u044c \\u0434\\u043e\\u043b\\u0435\\u0447\\u0438\\u0442\\u044c\\u0441\\u044f \\u0433\\u043b\\u0430\\u0432\\u043d\\u043e\\u0435 \\u0445\\u043e\\u0442\\u0435\\u0442\\u044c \\u0431\\u0435\\u0436\\u0430\\u0442\\u044c\",\n          \"\\u0444\\u043e\\u0440\\u043c\\u0430\\u0442\\u0438\\u0440\\u043e\\u0432\\u0430\\u0442\\u044c \\u0434\\u0430\\u0430\\u0430 \\u0445\\u043e\\u0434 \\u043b\\u044e\\u0431\\u0438\\u043c\\u044b\\u0439 \\u043a\\u043d\\u043e\\u043f\\u043a\\u0430\",\n          \"\\u043d\\u0430\\u0441\\u0442\\u043e\\u044f\\u0449\\u0438\\u0439 \\u043b\\u044e\\u0431\\u043e\\u0432\\u044c \\u0431\\u044b\\u0432\\u0430\\u0442\\u044c \\u0431\\u043e\\u043b\\u044c \\u043f\\u043e\\u0434\\u0443\\u043c\\u0430\\u0442\\u044c \\u0437\\u0430\\u0439\\u043a\\u0430 \\u043a\\u0440\\u0435\\u043f\\u043a\\u043e\\u043a\\u0440\\u0435\\u043f\\u043a\\u043e \\u043e\\u0431\\u043d\\u044f\\u0442\\u044c \\u0451\\u0436\\u0438\\u043a\"\n        ],\n        \"semantic_type\": \"\",\n        \"description\": \"\"\n      }\n    },\n    {\n      \"column\": \"class\",\n      \"properties\": {\n        \"dtype\": \"number\",\n        \"std\": 0,\n        \"min\": 0,\n        \"max\": 1,\n        \"num_unique_values\": 2,\n        \"samples\": [\n          0,\n          1\n        ],\n        \"semantic_type\": \"\",\n        \"description\": \"\"\n      }\n    }\n  ]\n}"
            }
          },
          "metadata": {},
          "execution_count": 59
        }
      ]
    },
    {
      "cell_type": "markdown",
      "source": [
        "## Save clean data"
      ],
      "metadata": {
        "id": "RHwGX9DrGscX"
      }
    },
    {
      "cell_type": "code",
      "source": [
        "df_train.to_csv(path_to_work_dir + \"train_clean.csv\", index=None)\n",
        "df_test.to_csv(path_to_work_dir + \"test_clean.csv\", index=None)\n",
        "df_val.to_csv(path_to_work_dir + \"val_clean.csv\", index=None)"
      ],
      "metadata": {
        "id": "jYdGIMQeFHrO"
      },
      "execution_count": null,
      "outputs": []
    },
    {
      "cell_type": "markdown",
      "source": [
        "## Load clean data"
      ],
      "metadata": {
        "id": "1eyOlcvHHA6u"
      }
    },
    {
      "cell_type": "code",
      "source": [
        "df_train = pd.read_csv(path_to_work_dir + \"train_clean.csv\")[:60000]\n",
        "df_test = pd.read_csv(path_to_work_dir + \"test_clean.csv\")[:12000]\n",
        "df_val = pd.read_csv(path_to_work_dir + \"val_clean.csv\")[:12000]"
      ],
      "metadata": {
        "id": "-DFwnDgBH2o2"
      },
      "execution_count": 9,
      "outputs": []
    },
    {
      "cell_type": "code",
      "source": [
        "df_train.head()"
      ],
      "metadata": {
        "colab": {
          "base_uri": "https://localhost:8080/",
          "height": 226
        },
        "id": "Du8_dhauH-xW",
        "outputId": "b1395aac-83b7-4699-a709-d6400e51bd6d"
      },
      "execution_count": 10,
      "outputs": [
        {
          "output_type": "execute_result",
          "data": {
            "text/plain": [
              "   id                                           text  class\n",
              "0   0                  уезжаааааааать хотеть уезжать      0\n",
              "1   1  ребята девчата кино это любовь сегодня завтра      1\n",
              "2   2                    ненавидеть пробка ретвит rt      0\n",
              "3   3       хотеться котлета покиевск запретный плод      1\n",
              "4   4                  босапоп есбосой бояться мороз      1"
            ],
            "text/html": [
              "\n",
              "  <div id=\"df-bd288b97-e474-4387-a346-290ca94da29a\" class=\"colab-df-container\">\n",
              "    <div>\n",
              "<style scoped>\n",
              "    .dataframe tbody tr th:only-of-type {\n",
              "        vertical-align: middle;\n",
              "    }\n",
              "\n",
              "    .dataframe tbody tr th {\n",
              "        vertical-align: top;\n",
              "    }\n",
              "\n",
              "    .dataframe thead th {\n",
              "        text-align: right;\n",
              "    }\n",
              "</style>\n",
              "<table border=\"1\" class=\"dataframe\">\n",
              "  <thead>\n",
              "    <tr style=\"text-align: right;\">\n",
              "      <th></th>\n",
              "      <th>id</th>\n",
              "      <th>text</th>\n",
              "      <th>class</th>\n",
              "    </tr>\n",
              "  </thead>\n",
              "  <tbody>\n",
              "    <tr>\n",
              "      <th>0</th>\n",
              "      <td>0</td>\n",
              "      <td>уезжаааааааать хотеть уезжать</td>\n",
              "      <td>0</td>\n",
              "    </tr>\n",
              "    <tr>\n",
              "      <th>1</th>\n",
              "      <td>1</td>\n",
              "      <td>ребята девчата кино это любовь сегодня завтра</td>\n",
              "      <td>1</td>\n",
              "    </tr>\n",
              "    <tr>\n",
              "      <th>2</th>\n",
              "      <td>2</td>\n",
              "      <td>ненавидеть пробка ретвит rt</td>\n",
              "      <td>0</td>\n",
              "    </tr>\n",
              "    <tr>\n",
              "      <th>3</th>\n",
              "      <td>3</td>\n",
              "      <td>хотеться котлета покиевск запретный плод</td>\n",
              "      <td>1</td>\n",
              "    </tr>\n",
              "    <tr>\n",
              "      <th>4</th>\n",
              "      <td>4</td>\n",
              "      <td>босапоп есбосой бояться мороз</td>\n",
              "      <td>1</td>\n",
              "    </tr>\n",
              "  </tbody>\n",
              "</table>\n",
              "</div>\n",
              "    <div class=\"colab-df-buttons\">\n",
              "\n",
              "  <div class=\"colab-df-container\">\n",
              "    <button class=\"colab-df-convert\" onclick=\"convertToInteractive('df-bd288b97-e474-4387-a346-290ca94da29a')\"\n",
              "            title=\"Convert this dataframe to an interactive table.\"\n",
              "            style=\"display:none;\">\n",
              "\n",
              "  <svg xmlns=\"http://www.w3.org/2000/svg\" height=\"24px\" viewBox=\"0 -960 960 960\">\n",
              "    <path d=\"M120-120v-720h720v720H120Zm60-500h600v-160H180v160Zm220 220h160v-160H400v160Zm0 220h160v-160H400v160ZM180-400h160v-160H180v160Zm440 0h160v-160H620v160ZM180-180h160v-160H180v160Zm440 0h160v-160H620v160Z\"/>\n",
              "  </svg>\n",
              "    </button>\n",
              "\n",
              "  <style>\n",
              "    .colab-df-container {\n",
              "      display:flex;\n",
              "      gap: 12px;\n",
              "    }\n",
              "\n",
              "    .colab-df-convert {\n",
              "      background-color: #E8F0FE;\n",
              "      border: none;\n",
              "      border-radius: 50%;\n",
              "      cursor: pointer;\n",
              "      display: none;\n",
              "      fill: #1967D2;\n",
              "      height: 32px;\n",
              "      padding: 0 0 0 0;\n",
              "      width: 32px;\n",
              "    }\n",
              "\n",
              "    .colab-df-convert:hover {\n",
              "      background-color: #E2EBFA;\n",
              "      box-shadow: 0px 1px 2px rgba(60, 64, 67, 0.3), 0px 1px 3px 1px rgba(60, 64, 67, 0.15);\n",
              "      fill: #174EA6;\n",
              "    }\n",
              "\n",
              "    .colab-df-buttons div {\n",
              "      margin-bottom: 4px;\n",
              "    }\n",
              "\n",
              "    [theme=dark] .colab-df-convert {\n",
              "      background-color: #3B4455;\n",
              "      fill: #D2E3FC;\n",
              "    }\n",
              "\n",
              "    [theme=dark] .colab-df-convert:hover {\n",
              "      background-color: #434B5C;\n",
              "      box-shadow: 0px 1px 3px 1px rgba(0, 0, 0, 0.15);\n",
              "      filter: drop-shadow(0px 1px 2px rgba(0, 0, 0, 0.3));\n",
              "      fill: #FFFFFF;\n",
              "    }\n",
              "  </style>\n",
              "\n",
              "    <script>\n",
              "      const buttonEl =\n",
              "        document.querySelector('#df-bd288b97-e474-4387-a346-290ca94da29a button.colab-df-convert');\n",
              "      buttonEl.style.display =\n",
              "        google.colab.kernel.accessAllowed ? 'block' : 'none';\n",
              "\n",
              "      async function convertToInteractive(key) {\n",
              "        const element = document.querySelector('#df-bd288b97-e474-4387-a346-290ca94da29a');\n",
              "        const dataTable =\n",
              "          await google.colab.kernel.invokeFunction('convertToInteractive',\n",
              "                                                    [key], {});\n",
              "        if (!dataTable) return;\n",
              "\n",
              "        const docLinkHtml = 'Like what you see? Visit the ' +\n",
              "          '<a target=\"_blank\" href=https://colab.research.google.com/notebooks/data_table.ipynb>data table notebook</a>'\n",
              "          + ' to learn more about interactive tables.';\n",
              "        element.innerHTML = '';\n",
              "        dataTable['output_type'] = 'display_data';\n",
              "        await google.colab.output.renderOutput(dataTable, element);\n",
              "        const docLink = document.createElement('div');\n",
              "        docLink.innerHTML = docLinkHtml;\n",
              "        element.appendChild(docLink);\n",
              "      }\n",
              "    </script>\n",
              "  </div>\n",
              "\n",
              "\n",
              "<div id=\"df-f5ca1ccf-6913-4ace-bfe4-f24a2a2f6cd4\">\n",
              "  <button class=\"colab-df-quickchart\" onclick=\"quickchart('df-f5ca1ccf-6913-4ace-bfe4-f24a2a2f6cd4')\"\n",
              "            title=\"Suggest charts\"\n",
              "            style=\"display:none;\">\n",
              "\n",
              "<svg xmlns=\"http://www.w3.org/2000/svg\" height=\"24px\"viewBox=\"0 0 24 24\"\n",
              "     width=\"24px\">\n",
              "    <g>\n",
              "        <path d=\"M19 3H5c-1.1 0-2 .9-2 2v14c0 1.1.9 2 2 2h14c1.1 0 2-.9 2-2V5c0-1.1-.9-2-2-2zM9 17H7v-7h2v7zm4 0h-2V7h2v10zm4 0h-2v-4h2v4z\"/>\n",
              "    </g>\n",
              "</svg>\n",
              "  </button>\n",
              "\n",
              "<style>\n",
              "  .colab-df-quickchart {\n",
              "      --bg-color: #E8F0FE;\n",
              "      --fill-color: #1967D2;\n",
              "      --hover-bg-color: #E2EBFA;\n",
              "      --hover-fill-color: #174EA6;\n",
              "      --disabled-fill-color: #AAA;\n",
              "      --disabled-bg-color: #DDD;\n",
              "  }\n",
              "\n",
              "  [theme=dark] .colab-df-quickchart {\n",
              "      --bg-color: #3B4455;\n",
              "      --fill-color: #D2E3FC;\n",
              "      --hover-bg-color: #434B5C;\n",
              "      --hover-fill-color: #FFFFFF;\n",
              "      --disabled-bg-color: #3B4455;\n",
              "      --disabled-fill-color: #666;\n",
              "  }\n",
              "\n",
              "  .colab-df-quickchart {\n",
              "    background-color: var(--bg-color);\n",
              "    border: none;\n",
              "    border-radius: 50%;\n",
              "    cursor: pointer;\n",
              "    display: none;\n",
              "    fill: var(--fill-color);\n",
              "    height: 32px;\n",
              "    padding: 0;\n",
              "    width: 32px;\n",
              "  }\n",
              "\n",
              "  .colab-df-quickchart:hover {\n",
              "    background-color: var(--hover-bg-color);\n",
              "    box-shadow: 0 1px 2px rgba(60, 64, 67, 0.3), 0 1px 3px 1px rgba(60, 64, 67, 0.15);\n",
              "    fill: var(--button-hover-fill-color);\n",
              "  }\n",
              "\n",
              "  .colab-df-quickchart-complete:disabled,\n",
              "  .colab-df-quickchart-complete:disabled:hover {\n",
              "    background-color: var(--disabled-bg-color);\n",
              "    fill: var(--disabled-fill-color);\n",
              "    box-shadow: none;\n",
              "  }\n",
              "\n",
              "  .colab-df-spinner {\n",
              "    border: 2px solid var(--fill-color);\n",
              "    border-color: transparent;\n",
              "    border-bottom-color: var(--fill-color);\n",
              "    animation:\n",
              "      spin 1s steps(1) infinite;\n",
              "  }\n",
              "\n",
              "  @keyframes spin {\n",
              "    0% {\n",
              "      border-color: transparent;\n",
              "      border-bottom-color: var(--fill-color);\n",
              "      border-left-color: var(--fill-color);\n",
              "    }\n",
              "    20% {\n",
              "      border-color: transparent;\n",
              "      border-left-color: var(--fill-color);\n",
              "      border-top-color: var(--fill-color);\n",
              "    }\n",
              "    30% {\n",
              "      border-color: transparent;\n",
              "      border-left-color: var(--fill-color);\n",
              "      border-top-color: var(--fill-color);\n",
              "      border-right-color: var(--fill-color);\n",
              "    }\n",
              "    40% {\n",
              "      border-color: transparent;\n",
              "      border-right-color: var(--fill-color);\n",
              "      border-top-color: var(--fill-color);\n",
              "    }\n",
              "    60% {\n",
              "      border-color: transparent;\n",
              "      border-right-color: var(--fill-color);\n",
              "    }\n",
              "    80% {\n",
              "      border-color: transparent;\n",
              "      border-right-color: var(--fill-color);\n",
              "      border-bottom-color: var(--fill-color);\n",
              "    }\n",
              "    90% {\n",
              "      border-color: transparent;\n",
              "      border-bottom-color: var(--fill-color);\n",
              "    }\n",
              "  }\n",
              "</style>\n",
              "\n",
              "  <script>\n",
              "    async function quickchart(key) {\n",
              "      const quickchartButtonEl =\n",
              "        document.querySelector('#' + key + ' button');\n",
              "      quickchartButtonEl.disabled = true;  // To prevent multiple clicks.\n",
              "      quickchartButtonEl.classList.add('colab-df-spinner');\n",
              "      try {\n",
              "        const charts = await google.colab.kernel.invokeFunction(\n",
              "            'suggestCharts', [key], {});\n",
              "      } catch (error) {\n",
              "        console.error('Error during call to suggestCharts:', error);\n",
              "      }\n",
              "      quickchartButtonEl.classList.remove('colab-df-spinner');\n",
              "      quickchartButtonEl.classList.add('colab-df-quickchart-complete');\n",
              "    }\n",
              "    (() => {\n",
              "      let quickchartButtonEl =\n",
              "        document.querySelector('#df-f5ca1ccf-6913-4ace-bfe4-f24a2a2f6cd4 button');\n",
              "      quickchartButtonEl.style.display =\n",
              "        google.colab.kernel.accessAllowed ? 'block' : 'none';\n",
              "    })();\n",
              "  </script>\n",
              "</div>\n",
              "    </div>\n",
              "  </div>\n"
            ],
            "application/vnd.google.colaboratory.intrinsic+json": {
              "type": "dataframe",
              "variable_name": "df_train",
              "summary": "{\n  \"name\": \"df_train\",\n  \"rows\": 60000,\n  \"fields\": [\n    {\n      \"column\": \"id\",\n      \"properties\": {\n        \"dtype\": \"number\",\n        \"std\": 17320,\n        \"min\": 0,\n        \"max\": 59999,\n        \"num_unique_values\": 60000,\n        \"samples\": [\n          12628,\n          37730,\n          39991\n        ],\n        \"semantic_type\": \"\",\n        \"description\": \"\"\n      }\n    },\n    {\n      \"column\": \"text\",\n      \"properties\": {\n        \"dtype\": \"string\",\n        \"num_unique_values\": 57956,\n        \"samples\": [\n          \"\\u043c\\u0430\\u0437\\u0430\\u0444\\u0430\\u043a\\u043d\\u043e \\u0437\\u0430\\u0432\\u0442\\u0440\\u0430 \\u0444\\u0438\\u0433\\u0430 \\u0434\\u043e\\u043c\\u0430\\u0448\\u043a\\u0438\\u0442\\u0430\\u043d\\u0435\\u0446 \\u043d\\u0443\\u0436\\u043d\\u044b\\u0439 \\u043f\\u0435\\u0441\\u043d\\u044f \\u0433\\u0435\\u0440\\u043e\\u0435\\u0432\\u0434\\u0430 \\u043f\\u043e\\u0433\\u0443\\u043b\\u044f\\u044ed\",\n          \"\\u044d\\u0442\\u043e\\u0442 \\u0441\\u0438\\u043c\\u043f\\u0430\\u0442\\u044f\\u0436\\u043a\\u0438\\u0439 \\u044d\\u043b\\u0435\\u043a\\u0442\\u0440\\u043e\\u043d\\u043d\\u044b\\u0439\\u0430\\u0434\\u0440\\u0435\\u0441\\u0441\",\n          \"\\u044d\\u0442\\u043e \\u0447\\u0435\\u0442\\u0432\\u0435\\u0440\\u0433\\u043e\\u0432\\u044b\\u0439 \\u0436\\u0435\\u043b\\u0430\\u043d\\u0438\\u0435 \\u0431\\u043b\\u0443\\u0434\\u0438\\u0442\\u044c \\u043a\\u0430\\u043a\\u0442\\u043e \\u043d\\u0430\\u0437\\u0432\\u0430\\u0442\\u044c\"\n        ],\n        \"semantic_type\": \"\",\n        \"description\": \"\"\n      }\n    },\n    {\n      \"column\": \"class\",\n      \"properties\": {\n        \"dtype\": \"number\",\n        \"std\": 0,\n        \"min\": 0,\n        \"max\": 1,\n        \"num_unique_values\": 2,\n        \"samples\": [\n          1,\n          0\n        ],\n        \"semantic_type\": \"\",\n        \"description\": \"\"\n      }\n    }\n  ]\n}"
            }
          },
          "metadata": {},
          "execution_count": 10
        }
      ]
    },
    {
      "cell_type": "markdown",
      "source": [
        "## Remove NaN values"
      ],
      "metadata": {
        "id": "juDJMJ3r4X4v"
      }
    },
    {
      "cell_type": "code",
      "source": [
        "df_train.isna().sum()"
      ],
      "metadata": {
        "colab": {
          "base_uri": "https://localhost:8080/",
          "height": 198
        },
        "id": "fawCDQUh2NMp",
        "outputId": "11f08994-8be6-4d14-cdd4-98887adfc814"
      },
      "execution_count": 11,
      "outputs": [
        {
          "output_type": "execute_result",
          "data": {
            "text/plain": [
              "id        0\n",
              "text     62\n",
              "class     0\n",
              "dtype: int64"
            ],
            "text/html": [
              "<table border=\"1\" class=\"dataframe\">\n",
              "  <thead>\n",
              "    <tr style=\"text-align: right;\">\n",
              "      <th></th>\n",
              "      <th>0</th>\n",
              "    </tr>\n",
              "  </thead>\n",
              "  <tbody>\n",
              "    <tr>\n",
              "      <th>id</th>\n",
              "      <td>0</td>\n",
              "    </tr>\n",
              "    <tr>\n",
              "      <th>text</th>\n",
              "      <td>62</td>\n",
              "    </tr>\n",
              "    <tr>\n",
              "      <th>class</th>\n",
              "      <td>0</td>\n",
              "    </tr>\n",
              "  </tbody>\n",
              "</table><br><label><b>dtype:</b> int64</label>"
            ]
          },
          "metadata": {},
          "execution_count": 11
        }
      ]
    },
    {
      "cell_type": "code",
      "source": [
        "df_test.isna().sum()"
      ],
      "metadata": {
        "colab": {
          "base_uri": "https://localhost:8080/",
          "height": 167
        },
        "id": "EP6DvedDzsuS",
        "outputId": "221df6b8-0261-4e9d-9853-a8f83780d6e9"
      },
      "execution_count": 12,
      "outputs": [
        {
          "output_type": "execute_result",
          "data": {
            "text/plain": [
              "id       0\n",
              "text    13\n",
              "dtype: int64"
            ],
            "text/html": [
              "<table border=\"1\" class=\"dataframe\">\n",
              "  <thead>\n",
              "    <tr style=\"text-align: right;\">\n",
              "      <th></th>\n",
              "      <th>0</th>\n",
              "    </tr>\n",
              "  </thead>\n",
              "  <tbody>\n",
              "    <tr>\n",
              "      <th>id</th>\n",
              "      <td>0</td>\n",
              "    </tr>\n",
              "    <tr>\n",
              "      <th>text</th>\n",
              "      <td>13</td>\n",
              "    </tr>\n",
              "  </tbody>\n",
              "</table><br><label><b>dtype:</b> int64</label>"
            ]
          },
          "metadata": {},
          "execution_count": 12
        }
      ]
    },
    {
      "cell_type": "code",
      "source": [
        "df_val.isna().sum()"
      ],
      "metadata": {
        "colab": {
          "base_uri": "https://localhost:8080/",
          "height": 198
        },
        "id": "sPDJYe9fzvPr",
        "outputId": "05008cbd-efe7-4127-b12b-f9dd3c01adaf"
      },
      "execution_count": 13,
      "outputs": [
        {
          "output_type": "execute_result",
          "data": {
            "text/plain": [
              "id       0\n",
              "text     7\n",
              "class    0\n",
              "dtype: int64"
            ],
            "text/html": [
              "<table border=\"1\" class=\"dataframe\">\n",
              "  <thead>\n",
              "    <tr style=\"text-align: right;\">\n",
              "      <th></th>\n",
              "      <th>0</th>\n",
              "    </tr>\n",
              "  </thead>\n",
              "  <tbody>\n",
              "    <tr>\n",
              "      <th>id</th>\n",
              "      <td>0</td>\n",
              "    </tr>\n",
              "    <tr>\n",
              "      <th>text</th>\n",
              "      <td>7</td>\n",
              "    </tr>\n",
              "    <tr>\n",
              "      <th>class</th>\n",
              "      <td>0</td>\n",
              "    </tr>\n",
              "  </tbody>\n",
              "</table><br><label><b>dtype:</b> int64</label>"
            ]
          },
          "metadata": {},
          "execution_count": 13
        }
      ]
    },
    {
      "cell_type": "code",
      "source": [
        "df_train.dropna(inplace=True)\n",
        "df_train.isna().sum()"
      ],
      "metadata": {
        "colab": {
          "base_uri": "https://localhost:8080/",
          "height": 198
        },
        "id": "iHoN_Ebx2SvY",
        "outputId": "f5dcb8b6-038e-459c-d0c9-2ea256c01612"
      },
      "execution_count": 14,
      "outputs": [
        {
          "output_type": "execute_result",
          "data": {
            "text/plain": [
              "id       0\n",
              "text     0\n",
              "class    0\n",
              "dtype: int64"
            ],
            "text/html": [
              "<table border=\"1\" class=\"dataframe\">\n",
              "  <thead>\n",
              "    <tr style=\"text-align: right;\">\n",
              "      <th></th>\n",
              "      <th>0</th>\n",
              "    </tr>\n",
              "  </thead>\n",
              "  <tbody>\n",
              "    <tr>\n",
              "      <th>id</th>\n",
              "      <td>0</td>\n",
              "    </tr>\n",
              "    <tr>\n",
              "      <th>text</th>\n",
              "      <td>0</td>\n",
              "    </tr>\n",
              "    <tr>\n",
              "      <th>class</th>\n",
              "      <td>0</td>\n",
              "    </tr>\n",
              "  </tbody>\n",
              "</table><br><label><b>dtype:</b> int64</label>"
            ]
          },
          "metadata": {},
          "execution_count": 14
        }
      ]
    },
    {
      "cell_type": "code",
      "source": [
        "df_test.dropna(inplace=True)\n",
        "df_test.isna().sum()"
      ],
      "metadata": {
        "colab": {
          "base_uri": "https://localhost:8080/",
          "height": 167
        },
        "id": "9B0Y1A142wvC",
        "outputId": "904381ce-bdaf-4a2c-b93a-2414c38393f7"
      },
      "execution_count": 15,
      "outputs": [
        {
          "output_type": "execute_result",
          "data": {
            "text/plain": [
              "id      0\n",
              "text    0\n",
              "dtype: int64"
            ],
            "text/html": [
              "<table border=\"1\" class=\"dataframe\">\n",
              "  <thead>\n",
              "    <tr style=\"text-align: right;\">\n",
              "      <th></th>\n",
              "      <th>0</th>\n",
              "    </tr>\n",
              "  </thead>\n",
              "  <tbody>\n",
              "    <tr>\n",
              "      <th>id</th>\n",
              "      <td>0</td>\n",
              "    </tr>\n",
              "    <tr>\n",
              "      <th>text</th>\n",
              "      <td>0</td>\n",
              "    </tr>\n",
              "  </tbody>\n",
              "</table><br><label><b>dtype:</b> int64</label>"
            ]
          },
          "metadata": {},
          "execution_count": 15
        }
      ]
    },
    {
      "cell_type": "code",
      "source": [
        "df_val.dropna(inplace=True)\n",
        "df_val.isna().sum()"
      ],
      "metadata": {
        "colab": {
          "base_uri": "https://localhost:8080/",
          "height": 198
        },
        "id": "dX71sX-f3SPI",
        "outputId": "4eb5144a-5d4a-4b58-b685-fd3a9bc9169b"
      },
      "execution_count": 16,
      "outputs": [
        {
          "output_type": "execute_result",
          "data": {
            "text/plain": [
              "id       0\n",
              "text     0\n",
              "class    0\n",
              "dtype: int64"
            ],
            "text/html": [
              "<table border=\"1\" class=\"dataframe\">\n",
              "  <thead>\n",
              "    <tr style=\"text-align: right;\">\n",
              "      <th></th>\n",
              "      <th>0</th>\n",
              "    </tr>\n",
              "  </thead>\n",
              "  <tbody>\n",
              "    <tr>\n",
              "      <th>id</th>\n",
              "      <td>0</td>\n",
              "    </tr>\n",
              "    <tr>\n",
              "      <th>text</th>\n",
              "      <td>0</td>\n",
              "    </tr>\n",
              "    <tr>\n",
              "      <th>class</th>\n",
              "      <td>0</td>\n",
              "    </tr>\n",
              "  </tbody>\n",
              "</table><br><label><b>dtype:</b> int64</label>"
            ]
          },
          "metadata": {},
          "execution_count": 16
        }
      ]
    },
    {
      "cell_type": "markdown",
      "source": [
        "## Data to vectors"
      ],
      "metadata": {
        "id": "8pn6Gc_voqyq"
      }
    },
    {
      "cell_type": "code",
      "source": [
        "vectorizer_params = {\n",
        "    \"TfidfVectorizer\" : {\n",
        "        \"analyzer\": \"word\",\n",
        "        \"max_features\": 5000,\n",
        "        \"ngram_range\": (1, 1)\n",
        "    }\n",
        "}\n",
        "\n",
        "vect_param = vectorizer_params['TfidfVectorizer']"
      ],
      "metadata": {
        "id": "a7_eItxgo_eP"
      },
      "execution_count": 18,
      "outputs": []
    },
    {
      "cell_type": "code",
      "source": [
        "P = Preprocessing_data(df_train[:60000], df_val[:12000], df_test[:12000], key='text', tfidf_params=vect_param)"
      ],
      "metadata": {
        "id": "yZ7Jyhe-uleY"
      },
      "execution_count": 19,
      "outputs": []
    },
    {
      "cell_type": "code",
      "source": [
        "vocab_ner = P.data_preprocessing(clntxt=False)"
      ],
      "metadata": {
        "id": "VFrk3PEnwIyc"
      },
      "execution_count": 20,
      "outputs": []
    },
    {
      "cell_type": "code",
      "source": [
        "x_train, x_val, x_test = P.results(40)"
      ],
      "metadata": {
        "id": "9zmZjYMSwMLT"
      },
      "execution_count": 21,
      "outputs": []
    },
    {
      "cell_type": "code",
      "source": [
        "x_train.shape, x_val.shape, x_test.shape"
      ],
      "metadata": {
        "colab": {
          "base_uri": "https://localhost:8080/"
        },
        "id": "lUMxJUwD3o97",
        "outputId": "e0358571-c2b9-46ac-841d-b297752c8a5e"
      },
      "execution_count": 22,
      "outputs": [
        {
          "output_type": "execute_result",
          "data": {
            "text/plain": [
              "((59938, 40), (11993, 40), (11987, 40))"
            ]
          },
          "metadata": {},
          "execution_count": 22
        }
      ]
    },
    {
      "cell_type": "markdown",
      "source": [
        "# Model"
      ],
      "metadata": {
        "id": "ER6GEUx24i4q"
      }
    },
    {
      "cell_type": "markdown",
      "source": [
        "## Create dataloader"
      ],
      "metadata": {
        "id": "aEhxWRhq4gs6"
      }
    },
    {
      "cell_type": "code",
      "source": [
        "batch_size_train = 1024\n",
        "train_dataset = MyTextData(x_train, df_train['class'].values)\n",
        "train_loader = DataLoader(train_dataset, batch_size=batch_size_train, shuffle=True)\n",
        "\n",
        "batch_size_val = 16\n",
        "val_dataset = MyTextData(x_val, df_val['class'].values)\n",
        "val_loader = DataLoader(val_dataset, batch_size=batch_size_val, shuffle=True)"
      ],
      "metadata": {
        "id": "H_lJ2ufy31Cv"
      },
      "execution_count": 23,
      "outputs": []
    },
    {
      "cell_type": "code",
      "source": [
        "max_words = vect_param['max_features']\n",
        "max_words"
      ],
      "metadata": {
        "colab": {
          "base_uri": "https://localhost:8080/"
        },
        "id": "oZSqF8TX4NFr",
        "outputId": "a1e115d8-8b8c-423c-bf27-5d7047f7927c"
      },
      "execution_count": 24,
      "outputs": [
        {
          "output_type": "execute_result",
          "data": {
            "text/plain": [
              "5000"
            ]
          },
          "metadata": {},
          "execution_count": 24
        }
      ]
    },
    {
      "cell_type": "markdown",
      "source": [
        "## Create model"
      ],
      "metadata": {
        "id": "uPq-LutM4rL4"
      }
    },
    {
      "cell_type": "code",
      "source": [
        "device = 'cuda' if torch.cuda.is_available() else 'cpu'\n",
        "device"
      ],
      "metadata": {
        "colab": {
          "base_uri": "https://localhost:8080/",
          "height": 55
        },
        "id": "MzmAaRT41KLW",
        "outputId": "eda35bca-547c-4071-cdce-5e4784a34274"
      },
      "execution_count": 25,
      "outputs": [
        {
          "output_type": "execute_result",
          "data": {
            "text/plain": [
              "'cuda'"
            ],
            "application/vnd.google.colaboratory.intrinsic+json": {
              "type": "string"
            }
          },
          "metadata": {},
          "execution_count": 25
        }
      ]
    },
    {
      "cell_type": "code",
      "source": [
        "model_rnn = RNN_Text_model(max_words, 1024, 1)\n",
        "print(model_rnn)"
      ],
      "metadata": {
        "colab": {
          "base_uri": "https://localhost:8080/"
        },
        "id": "UDdvJtWn1Ey_",
        "outputId": "14b1e3ce-23c0-43a1-b77e-2203283391a0"
      },
      "execution_count": 26,
      "outputs": [
        {
          "output_type": "stream",
          "name": "stdout",
          "text": [
            "RNN_Text_model(\n",
            "  (embedding): Embedding(5000, 1024)\n",
            "  (rnn_1): RNN(1024, 512, bidirectional=True)\n",
            "  (rnn_2): RNN(1024, 512)\n",
            "  (rnn_3): RNN(512, 256)\n",
            "  (fc1): Linear(in_features=256, out_features=128, bias=True)\n",
            "  (fc2): Linear(in_features=128, out_features=64, bias=True)\n",
            "  (fc3): Linear(in_features=64, out_features=1, bias=True)\n",
            "  (dp1): Dropout(p=0.3, inplace=False)\n",
            "  (dp2): Dropout(p=0.4, inplace=False)\n",
            "  (dp3): Dropout(p=0.5, inplace=False)\n",
            ")\n"
          ]
        }
      ]
    },
    {
      "cell_type": "markdown",
      "source": [
        "### Optimizer & Loss"
      ],
      "metadata": {
        "id": "dQvT_BYM5G0Y"
      }
    },
    {
      "cell_type": "code",
      "source": [
        "# model_optimizer = torch.optim.SGD(model_rnn.parameters(), lr=0.001, momentum=0.01)\n",
        "model_optimizer = torch.optim.Adam(model_rnn.parameters(), lr=0.001)\n",
        "model_loss = nn.BCELoss()"
      ],
      "metadata": {
        "id": "jblQZ3yU1HfI"
      },
      "execution_count": 27,
      "outputs": []
    },
    {
      "cell_type": "markdown",
      "source": [
        "## Learn RNN model"
      ],
      "metadata": {
        "id": "QqpFLtRZ1P5A"
      }
    },
    {
      "cell_type": "code",
      "source": [
        "results = NN_Model_Fit(model_rnn, 50, device, train_loader, val_loader, model_optimizer, model_loss)"
      ],
      "metadata": {
        "colab": {
          "base_uri": "https://localhost:8080/"
        },
        "id": "HCFaCfoG1Bdc",
        "outputId": "2f0586bd-7b72-409d-f837-71e7ef3f2044"
      },
      "execution_count": null,
      "outputs": [
        {
          "output_type": "stream",
          "name": "stdout",
          "text": [
            "Epoch [1/50]. Step [59/59]. Loss: 0.69560. Acc: 0.50532. Test loss: 0.69971. Test acc: 0.53400\n",
            "Epoch [2/50]. Step [59/59]. Loss: 0.67184. Acc: 0.54358. Test loss: 0.64933. Test acc: 0.60667\n",
            "Epoch [3/50]. Step [59/59]. Loss: 0.64849. Acc: 0.61245. Test loss: 0.70452. Test acc: 0.63675\n",
            "Epoch [4/50]. Step [59/59]. Loss: 0.63383. Acc: 0.62777. Test loss: 0.60796. Test acc: 0.64017\n",
            "Epoch [5/50]. Step [59/59]. Loss: 0.65736. Acc: 0.63903. Test loss: 0.62962. Test acc: 0.65225\n",
            "Epoch [6/50]. Step [59/59]. Loss: 0.62631. Acc: 0.64252. Test loss: 0.60907. Test acc: 0.64892\n",
            "Epoch [7/50]. Step [59/59]. Loss: 0.64331. Acc: 0.64473. Test loss: 0.61580. Test acc: 0.64100\n",
            "Epoch [8/50]. Step [59/59]. Loss: 0.62881. Acc: 0.65028. Test loss: 0.51925. Test acc: 0.64717\n",
            "Epoch [9/50]. Step [59/59]. Loss: 0.62681. Acc: 0.64933. Test loss: 0.59581. Test acc: 0.65925\n",
            "Epoch [10/50]. Step [59/59]. Loss: 0.63229. Acc: 0.65012. Test loss: 0.63397. Test acc: 0.65867\n",
            "Epoch [11/50]. Step [59/59]. Loss: 0.63892. Acc: 0.64523. Test loss: 0.62064. Test acc: 0.64100\n",
            "Epoch [12/50]. Step [59/59]. Loss: 0.61700. Acc: 0.65188. Test loss: 0.58721. Test acc: 0.66017\n",
            "Epoch [13/50]. Step [59/59]. Loss: 0.62303. Acc: 0.65212. Test loss: 0.78553. Test acc: 0.66083\n",
            "Epoch [14/50]. Step [59/59]. Loss: 0.63965. Acc: 0.65465. Test loss: 0.54224. Test acc: 0.64975\n",
            "Epoch [15/50]. Step [59/59]. Loss: 0.61982. Acc: 0.65842. Test loss: 0.55835. Test acc: 0.64375\n",
            "Epoch [16/50]. Step [59/59]. Loss: 0.63058. Acc: 0.65465. Test loss: 0.67586. Test acc: 0.66008\n",
            "Epoch [17/50]. Step [59/59]. Loss: 0.61097. Acc: 0.65700. Test loss: 0.75902. Test acc: 0.65775\n",
            "Epoch [18/50]. Step [59/59]. Loss: 0.61154. Acc: 0.65517. Test loss: 0.60067. Test acc: 0.66000\n",
            "Epoch [19/50]. Step [59/59]. Loss: 0.64314. Acc: 0.65550. Test loss: 0.60520. Test acc: 0.64492\n",
            "Epoch [20/50]. Step [59/59]. Loss: 0.58596. Acc: 0.65562. Test loss: 0.70593. Test acc: 0.65900\n",
            "Epoch [21/50]. Step [59/59]. Loss: 0.59451. Acc: 0.65772. Test loss: 0.66980. Test acc: 0.65942\n",
            "Epoch [22/50]. Step [59/59]. Loss: 0.61648. Acc: 0.65745. Test loss: 0.58451. Test acc: 0.65083\n",
            "Epoch [23/50]. Step [59/59]. Loss: 0.62672. Acc: 0.65955. Test loss: 0.52313. Test acc: 0.65983\n",
            "Epoch [24/50]. Step [59/59]. Loss: 0.59554. Acc: 0.66023. Test loss: 0.58835. Test acc: 0.64208\n",
            "Epoch [25/50]. Step [59/59]. Loss: 0.61291. Acc: 0.65593. Test loss: 0.59128. Test acc: 0.65667\n",
            "Epoch [26/50]. Step [59/59]. Loss: 0.63887. Acc: 0.65663. Test loss: 0.64248. Test acc: 0.66358\n",
            "Epoch [27/50]. Step [59/59]. Loss: 0.59635. Acc: 0.65827. Test loss: 0.63982. Test acc: 0.65450\n",
            "Epoch [28/50]. Step [59/59]. Loss: 0.61087. Acc: 0.65688. Test loss: 0.52888. Test acc: 0.66008\n",
            "Epoch [29/50]. Step [59/59]. Loss: 0.63555. Acc: 0.65805. Test loss: 0.57551. Test acc: 0.66100\n",
            "Epoch [30/50]. Step [59/59]. Loss: 0.61731. Acc: 0.65868. Test loss: 0.55030. Test acc: 0.65917\n",
            "Epoch [31/50]. Step [59/59]. Loss: 0.67467. Acc: 0.66163. Test loss: 0.56330. Test acc: 0.66258\n",
            "Epoch [32/50]. Step [59/59]. Loss: 0.59702. Acc: 0.66287. Test loss: 0.52460. Test acc: 0.64283\n",
            "Epoch [33/50]. Step [59/59]. Loss: 0.64410. Acc: 0.65955. Test loss: 0.77965. Test acc: 0.65492\n",
            "Epoch [34/50]. Step [59/59]. Loss: 0.61701. Acc: 0.66015. Test loss: 0.55369. Test acc: 0.66267\n",
            "Epoch [35/50]. Step [59/59]. Loss: 0.61495. Acc: 0.65737. Test loss: 0.57161. Test acc: 0.64450\n",
            "Epoch [36/50]. Step [59/59]. Loss: 0.58997. Acc: 0.66188. Test loss: 0.52527. Test acc: 0.65825\n",
            "Epoch [37/50]. Step [59/59]. Loss: 0.64107. Acc: 0.66412. Test loss: 0.63331. Test acc: 0.66175\n",
            "Epoch [38/50]. Step [59/59]. Loss: 0.59377. Acc: 0.66253. Test loss: 0.50363. Test acc: 0.65817\n",
            "Epoch [39/50]. Step [59/59]. Loss: 0.61821. Acc: 0.66148. Test loss: 0.64195. Test acc: 0.64350\n",
            "Epoch [40/50]. Step [59/59]. Loss: 0.59553. Acc: 0.66265. Test loss: 0.59878. Test acc: 0.65367\n",
            "Epoch [41/50]. Step [59/59]. Loss: 0.61444. Acc: 0.66462. Test loss: 0.58482. Test acc: 0.66075\n",
            "Epoch [42/50]. Step [59/59]. Loss: 0.59837. Acc: 0.66282. Test loss: 0.74376. Test acc: 0.64383\n",
            "Epoch [43/50]. Step [59/59]. Loss: 0.61910. Acc: 0.66657. Test loss: 0.61265. Test acc: 0.62642\n",
            "Epoch [44/50]. Step [59/59]. Loss: 0.62442. Acc: 0.66380. Test loss: 0.60639. Test acc: 0.64908\n",
            "Epoch [45/50]. Step [59/59]. Loss: 0.60452. Acc: 0.66023. Test loss: 0.73776. Test acc: 0.65000\n",
            "Epoch [46/50]. Step [59/59]. Loss: 0.61996. Acc: 0.66657. Test loss: 0.64667. Test acc: 0.66058\n",
            "Epoch [47/50]. Step [59/59]. Loss: 0.60457. Acc: 0.66597. Test loss: 0.63902. Test acc: 0.62800\n",
            "Epoch [48/50]. Step [59/59]. Loss: 0.60356. Acc: 0.66945. Test loss: 0.63731. Test acc: 0.65667\n",
            "Epoch [49/50]. Step [59/59]. Loss: 0.60635. Acc: 0.66708. Test loss: 0.63815. Test acc: 0.64858\n",
            "Epoch [50/50]. Step [59/59]. Loss: 0.60886. Acc: 0.66550. Test loss: 0.59399. Test acc: 0.65542\n",
            "\n",
            "Training is finished! It took 825.87 seconds\n"
          ]
        }
      ]
    },
    {
      "cell_type": "markdown",
      "source": [
        "## Visualisation results"
      ],
      "metadata": {
        "id": "85nTjpPkDRte"
      }
    },
    {
      "cell_type": "code",
      "source": [
        "loss_train = results['train_loss']\n",
        "loss_test = results['test_loss']\n",
        "acc_train = results['train_acc']\n",
        "acc_test = results['test_acc']"
      ],
      "metadata": {
        "id": "r9YAR5T1x6Qf"
      },
      "execution_count": null,
      "outputs": []
    },
    {
      "cell_type": "code",
      "source": [
        "plt.title('Loss history')\n",
        "plt.grid(True)\n",
        "plt.ylabel('loss')\n",
        "plt.xlabel('epochs')\n",
        "plt.plot(loss_train, label='train')\n",
        "plt.plot(loss_test, label='test')\n",
        "plt.legend()\n",
        "plt.show()"
      ],
      "metadata": {
        "id": "RkFLhmeT2H9t",
        "colab": {
          "base_uri": "https://localhost:8080/",
          "height": 492
        },
        "outputId": "7e1a1711-ebda-4269-8d0c-c83715a2d378"
      },
      "execution_count": null,
      "outputs": [
        {
          "output_type": "display_data",
          "data": {
            "text/plain": [
              "<Figure size 640x480 with 1 Axes>"
            ],
            "image/png": "[encoded data removed]"
          },
          "metadata": {}
        }
      ]
    },
    {
      "cell_type": "code",
      "source": [
        "plt.title('Accuracy history')\n",
        "plt.grid(True)\n",
        "plt.ylabel('acc')\n",
        "plt.xlabel('epochs')\n",
        "plt.plot(acc_train, label='train')\n",
        "plt.plot(acc_test, label='test')\n",
        "plt.legend()\n",
        "plt.show()"
      ],
      "metadata": {
        "colab": {
          "base_uri": "https://localhost:8080/",
          "height": 492
        },
        "id": "ZKk55XIAyJkY",
        "outputId": "994554d2-b37d-4d28-c2a7-b4288a43bd14"
      },
      "execution_count": null,
      "outputs": [
        {
          "output_type": "display_data",
          "data": {
            "text/plain": [
              "<Figure size 640x480 with 1 Axes>"
            ],
            "image/png": "[encoded data removed]"
          },
          "metadata": {}
        }
      ]
    },
    {
      "cell_type": "markdown",
      "source": [
        "## Save model"
      ],
      "metadata": {
        "id": "9ibBsq-aoZwv"
      }
    },
    {
      "cell_type": "code",
      "source": [
        "torch.save(model_rnn, path_to_work_dir + 'torch_model_bin.pth')"
      ],
      "metadata": {
        "id": "ANZsoPyBoc_d"
      },
      "execution_count": null,
      "outputs": []
    },
    {
      "cell_type": "markdown",
      "source": [
        "## Load model"
      ],
      "metadata": {
        "id": "MyTVGeZBoe7q"
      }
    },
    {
      "cell_type": "code",
      "source": [
        "pt_model_load = torch.load(path_to_work_dir + \"torch_model_bin.pth\")"
      ],
      "metadata": {
        "id": "_ZNyFztHohx6"
      },
      "execution_count": null,
      "outputs": []
    },
    {
      "cell_type": "code",
      "source": [
        "model_cnn = CNN_Text_model(max_words, 1024, 1)\n",
        "print(model_cnn)"
      ],
      "metadata": {
        "id": "q9-sM26DtCOJ",
        "colab": {
          "base_uri": "https://localhost:8080/"
        },
        "outputId": "115eb56d-79dd-4301-a889-60b6f6533e6a"
      },
      "execution_count": 290,
      "outputs": [
        {
          "output_type": "stream",
          "name": "stdout",
          "text": [
            "CNN_Text_model(\n",
            "  (embedding): Embedding(5000, 1024)\n",
            "  (conv_1d_1): Conv1d(1024, 512, kernel_size=(1,), stride=(1,))\n",
            "  (conv_1d_2): Conv1d(512, 256, kernel_size=(1,), stride=(1,))\n",
            "  (fc1): Linear(in_features=256, out_features=128, bias=True)\n",
            "  (fc2): Linear(in_features=128, out_features=64, bias=True)\n",
            "  (fc3): Linear(in_features=64, out_features=1, bias=True)\n",
            "  (dp1): Dropout(p=0.3, inplace=False)\n",
            "  (dp2): Dropout(p=0.4, inplace=False)\n",
            "  (dp3): Dropout(p=0.5, inplace=False)\n",
            "  (global_1d_1): AdaptiveAvgPool1d(output_size=1)\n",
            ")\n"
          ]
        }
      ]
    },
    {
      "cell_type": "code",
      "source": [
        "# model_optimizer = torch.optim.SGD(model_rnn.parameters(), lr=0.01, momentum=0.1)\n",
        "model_optimizer = torch.optim.Adam(model_cnn.parameters(), lr=0.0005)\n",
        "model_loss = nn.BCELoss()"
      ],
      "metadata": {
        "id": "Z57HOql7UCQ5"
      },
      "execution_count": 291,
      "outputs": []
    },
    {
      "cell_type": "markdown",
      "source": [
        "## Learn CNN model"
      ],
      "metadata": {
        "id": "Ak5_JLTzVNhB"
      }
    },
    {
      "cell_type": "code",
      "source": [
        "results = NN_Model_Fit(model_cnn, 50, device, train_loader, val_loader, model_optimizer, model_loss)"
      ],
      "metadata": {
        "colab": {
          "base_uri": "https://localhost:8080/"
        },
        "id": "PJ8Z_B4rUHYQ",
        "outputId": "6dd2ab63-cd3f-460d-ba76-936abe808f61"
      },
      "execution_count": 292,
      "outputs": [
        {
          "output_type": "stream",
          "name": "stdout",
          "text": [
            "Epoch [1/50]. Step [59/59]. Loss: 0.69738. Acc: 0.50075. Test loss: 0.69499. Test acc: 0.49462\n",
            "Epoch [2/50]. Step [59/59]. Loss: 0.69314. Acc: 0.50983. Test loss: 0.68715. Test acc: 0.50554\n",
            "Epoch [3/50]. Step [59/59]. Loss: 0.70694. Acc: 0.52554. Test loss: 0.72909. Test acc: 0.49846\n",
            "Epoch [4/50]. Step [59/59]. Loss: 0.65520. Acc: 0.57194. Test loss: 0.71690. Test acc: 0.61444\n",
            "Epoch [5/50]. Step [59/59]. Loss: 0.70944. Acc: 0.63749. Test loss: 0.60952. Test acc: 0.62136\n",
            "Epoch [6/50]. Step [59/59]. Loss: 0.62090. Acc: 0.65711. Test loss: 0.65584. Test acc: 0.62345\n",
            "Epoch [7/50]. Step [59/59]. Loss: 0.58181. Acc: 0.67244. Test loss: 0.36173. Test acc: 0.65688\n",
            "Epoch [8/50]. Step [59/59]. Loss: 0.58602. Acc: 0.68910. Test loss: 0.61644. Test acc: 0.67598\n",
            "Epoch [9/50]. Step [59/59]. Loss: 0.58058. Acc: 0.68102. Test loss: 0.82369. Test acc: 0.66772\n",
            "Epoch [10/50]. Step [59/59]. Loss: 0.54047. Acc: 0.70748. Test loss: 0.61321. Test acc: 0.68573\n",
            "Epoch [11/50]. Step [59/59]. Loss: 0.60459. Acc: 0.70686. Test loss: 0.58872. Test acc: 0.67356\n",
            "Epoch [12/50]. Step [59/59]. Loss: 0.54513. Acc: 0.70626. Test loss: 0.61566. Test acc: 0.68732\n",
            "Epoch [13/50]. Step [59/59]. Loss: 0.53617. Acc: 0.71784. Test loss: 0.70259. Test acc: 0.66447\n",
            "Epoch [14/50]. Step [59/59]. Loss: 0.49724. Acc: 0.71894. Test loss: 0.83148. Test acc: 0.68857\n",
            "Epoch [15/50]. Step [59/59]. Loss: 0.54576. Acc: 0.72143. Test loss: 0.71519. Test acc: 0.68457\n",
            "Epoch [16/50]. Step [59/59]. Loss: 0.51571. Acc: 0.72371. Test loss: 0.82134. Test acc: 0.67131\n",
            "Epoch [17/50]. Step [59/59]. Loss: 0.54250. Acc: 0.72555. Test loss: 0.57339. Test acc: 0.68632\n",
            "Epoch [18/50]. Step [59/59]. Loss: 0.56498. Acc: 0.72433. Test loss: 0.37750. Test acc: 0.65730\n",
            "Epoch [19/50]. Step [59/59]. Loss: 0.52408. Acc: 0.72875. Test loss: 0.69322. Test acc: 0.68407\n",
            "Epoch [20/50]. Step [59/59]. Loss: 0.50962. Acc: 0.72790. Test loss: 0.59339. Test acc: 0.68565\n",
            "Epoch [21/50]. Step [59/59]. Loss: 0.52495. Acc: 0.72950. Test loss: 0.47382. Test acc: 0.69040\n",
            "Epoch [22/50]. Step [59/59]. Loss: 0.53070. Acc: 0.72984. Test loss: 0.55722. Test acc: 0.68198\n",
            "Epoch [23/50]. Step [59/59]. Loss: 0.53416. Acc: 0.73616. Test loss: 0.77010. Test acc: 0.68407\n",
            "Epoch [24/50]. Step [59/59]. Loss: 0.51764. Acc: 0.73374. Test loss: 0.70323. Test acc: 0.68957\n",
            "Epoch [25/50]. Step [59/59]. Loss: 0.56938. Acc: 0.73843. Test loss: 0.52139. Test acc: 0.68974\n",
            "Epoch [26/50]. Step [59/59]. Loss: 0.48566. Acc: 0.73773. Test loss: 0.51199. Test acc: 0.68023\n",
            "Epoch [27/50]. Step [59/59]. Loss: 0.49561. Acc: 0.73491. Test loss: 1.01837. Test acc: 0.68657\n",
            "Epoch [28/50]. Step [59/59]. Loss: 0.52845. Acc: 0.73781. Test loss: 0.44186. Test acc: 0.68332\n",
            "Epoch [29/50]. Step [59/59]. Loss: 0.50568. Acc: 0.74025. Test loss: 0.73521. Test acc: 0.68557\n",
            "Epoch [30/50]. Step [59/59]. Loss: 0.50599. Acc: 0.73865. Test loss: 0.39186. Test acc: 0.68373\n",
            "Epoch [31/50]. Step [59/59]. Loss: 0.55216. Acc: 0.73926. Test loss: 0.60912. Test acc: 0.68782\n",
            "Epoch [32/50]. Step [59/59]. Loss: 0.50272. Acc: 0.73966. Test loss: 0.92418. Test acc: 0.68090\n",
            "Epoch [33/50]. Step [59/59]. Loss: 0.53125. Acc: 0.74042. Test loss: 0.34619. Test acc: 0.68582\n",
            "Epoch [34/50]. Step [59/59]. Loss: 0.53439. Acc: 0.73896. Test loss: 0.53181. Test acc: 0.68473\n",
            "Epoch [35/50]. Step [59/59]. Loss: 0.51848. Acc: 0.73943. Test loss: 0.84917. Test acc: 0.67581\n",
            "Epoch [36/50]. Step [59/59]. Loss: 0.48484. Acc: 0.74407. Test loss: 0.55646. Test acc: 0.68723\n",
            "Epoch [37/50]. Step [59/59]. Loss: 0.52790. Acc: 0.73976. Test loss: 0.38241. Test acc: 0.68715\n",
            "Epoch [38/50]. Step [59/59]. Loss: 0.51153. Acc: 0.74078. Test loss: 0.38585. Test acc: 0.68632\n",
            "Epoch [39/50]. Step [59/59]. Loss: 0.51966. Acc: 0.73841. Test loss: 0.41823. Test acc: 0.67448\n",
            "Epoch [40/50]. Step [59/59]. Loss: 0.52289. Acc: 0.74223. Test loss: 0.27704. Test acc: 0.68373\n",
            "Epoch [41/50]. Step [59/59]. Loss: 0.52538. Acc: 0.74252. Test loss: 0.37174. Test acc: 0.67356\n",
            "Epoch [42/50]. Step [59/59]. Loss: 0.52036. Acc: 0.73569. Test loss: 0.18756. Test acc: 0.66847\n",
            "Epoch [43/50]. Step [59/59]. Loss: 0.52759. Acc: 0.74333. Test loss: 0.51881. Test acc: 0.67681\n",
            "Epoch [44/50]. Step [59/59]. Loss: 0.54692. Acc: 0.74402. Test loss: 0.63157. Test acc: 0.67006\n",
            "Epoch [45/50]. Step [59/59]. Loss: 0.51453. Acc: 0.73516. Test loss: 0.35378. Test acc: 0.68490\n",
            "Epoch [46/50]. Step [59/59]. Loss: 0.57429. Acc: 0.74517. Test loss: 0.49066. Test acc: 0.68248\n",
            "Epoch [47/50]. Step [59/59]. Loss: 0.51197. Acc: 0.74303. Test loss: 0.35931. Test acc: 0.67923\n",
            "Epoch [48/50]. Step [59/59]. Loss: 0.54004. Acc: 0.74040. Test loss: 0.75366. Test acc: 0.68507\n",
            "Epoch [49/50]. Step [59/59]. Loss: 0.52109. Acc: 0.74087. Test loss: 0.85482. Test acc: 0.66397\n",
            "Epoch [50/50]. Step [59/59]. Loss: 0.55322. Acc: 0.73963. Test loss: 0.64424. Test acc: 0.66706\n",
            "\n",
            "Training is finished! It took 293.71 seconds\n"
          ]
        }
      ]
    },
    {
      "cell_type": "markdown",
      "source": [
        "## Visualisation results"
      ],
      "metadata": {
        "id": "OpcSu7B9pNw8"
      }
    },
    {
      "cell_type": "code",
      "source": [
        "loss_train = results['train_loss']\n",
        "loss_test = results['test_loss']\n",
        "acc_train = results['train_acc']\n",
        "acc_test = results['test_acc']"
      ],
      "metadata": {
        "id": "QoVRxpFUkXXL"
      },
      "execution_count": 293,
      "outputs": []
    },
    {
      "cell_type": "code",
      "source": [
        "plt.title('Loss history')\n",
        "plt.grid(True)\n",
        "plt.ylabel('loss')\n",
        "plt.xlabel('epochs')\n",
        "plt.plot(loss_train, label='train')\n",
        "plt.plot(loss_test, label='test')\n",
        "plt.legend()\n",
        "plt.show()"
      ],
      "metadata": {
        "colab": {
          "base_uri": "https://localhost:8080/",
          "height": 492
        },
        "id": "VGmoyKB5pQ1x",
        "outputId": "84d16bd7-9bc1-42cb-a2af-69a5ed0f804b"
      },
      "execution_count": 294,
      "outputs": [
        {
          "output_type": "display_data",
          "data": {
            "text/plain": [
              "<Figure size 640x480 with 1 Axes>"
            ],
            "image/png": "[encoded data removed]"
          },
          "metadata": {}
        }
      ]
    },
    {
      "cell_type": "code",
      "source": [
        "plt.title('Accuracy history')\n",
        "plt.grid(True)\n",
        "plt.ylabel('acc')\n",
        "plt.xlabel('epochs')\n",
        "plt.plot(acc_train, label='train')\n",
        "plt.plot(acc_test, label='test')\n",
        "plt.legend()\n",
        "plt.show()"
      ],
      "metadata": {
        "colab": {
          "base_uri": "https://localhost:8080/",
          "height": 492
        },
        "id": "uo_zRL-rpS_2",
        "outputId": "7eade4be-9da6-4cbc-edaf-754c53440402"
      },
      "execution_count": 295,
      "outputs": [
        {
          "output_type": "display_data",
          "data": {
            "text/plain": [
              "<Figure size 640x480 with 1 Axes>"
            ],
            "image/png": "[encoded data removed]"
          },
          "metadata": {}
        }
      ]
    },
    {
      "cell_type": "markdown",
      "source": [
        "## Save model"
      ],
      "metadata": {
        "id": "8EIH_PiUwaDZ"
      }
    },
    {
      "cell_type": "code",
      "source": [
        "torch.save(model_cnn, path_to_work_dir + 'torch_model_bin_2.pth')"
      ],
      "metadata": {
        "id": "28ZhR0yevQPe"
      },
      "execution_count": 298,
      "outputs": []
    },
    {
      "cell_type": "markdown",
      "source": [
        "## Load model"
      ],
      "metadata": {
        "id": "C6oiabLTvQPh"
      }
    },
    {
      "cell_type": "code",
      "source": [
        "pt_model_load = torch.load(path_to_work_dir + \"torch_model_bin_2.pth\")"
      ],
      "metadata": {
        "id": "9JNXN7TmvQPi"
      },
      "execution_count": 299,
      "outputs": []
    },
    {
      "cell_type": "markdown",
      "source": [
        "# Conclusion"
      ],
      "metadata": {
        "id": "pibdZn6swpK1"
      }
    },
    {
      "cell_type": "markdown",
      "source": [
        "По результатам тестирования двух моделей RNN и CNN ориентируясь на показатель accuracy можно выделить модель CNN как наиболее выгодную, так как точность модели на тестовых данных выше. Для RNN средний показатель составляет 0.65, для CNN - 0.675"
      ],
      "metadata": {
        "id": "jVYWwTNUxW_x"
      }
    }
  ]
}